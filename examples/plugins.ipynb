{
 "cells": [
  {
   "cell_type": "markdown",
   "id": "e9012b6d",
   "metadata": {},
   "source": [
    "# Create a plugin to provide a set of tools"
   ]
  },
  {
   "cell_type": "code",
   "execution_count": 1,
   "id": "d7104202",
   "metadata": {},
   "outputs": [
    {
     "data": {
      "text/plain": [
       "True"
      ]
     },
     "execution_count": 1,
     "metadata": {},
     "output_type": "execute_result"
    }
   ],
   "source": [
    "from agentia import Agent, Plugin, tool\n",
    "from typing import Annotated, Literal\n",
    "import dotenv\n",
    "\n",
    "dotenv.load_dotenv()"
   ]
  },
  {
   "cell_type": "markdown",
   "id": "d9df5b1a",
   "metadata": {},
   "source": [
    "## Create a plugin"
   ]
  },
  {
   "cell_type": "code",
   "execution_count": 2,
   "id": "9399ca79",
   "metadata": {},
   "outputs": [],
   "source": [
    "class WeatherPlugin(Plugin):\n",
    "    @tool\n",
    "    def get_current_forecase(\n",
    "        self,\n",
    "        location: Annotated[str, \"The city and state, e.g. San Francisco, CA\"],\n",
    "    ):\n",
    "        \"\"\"Get the current weather forecase in a given location\"\"\"\n",
    "        return {\n",
    "            \"forecast\": [\"sunny\", \"windy\"],\n",
    "        }\n",
    "\n",
    "    @tool\n",
    "    def get_current_temperature(\n",
    "        self,\n",
    "        location: Annotated[str, \"The city and state, e.g. San Francisco, CA\"],\n",
    "        unit: Literal[\"celsius\", \"fahrenheit\"] | None = \"fahrenheit\",\n",
    "    ):\n",
    "        \"\"\"Get the current temperature in a given location\"\"\"\n",
    "        return {\n",
    "            \"temperature\": \"72\",\n",
    "            \"unit\": unit,\n",
    "        }"
   ]
  },
  {
   "cell_type": "markdown",
   "id": "b36883be",
   "metadata": {},
   "source": [
    "## Run an agent with the plugin"
   ]
  },
  {
   "cell_type": "code",
   "execution_count": 3,
   "id": "26b922f7",
   "metadata": {},
   "outputs": [
    {
     "name": "stdout",
     "output_type": "stream",
     "text": [
      "The current weather in Boston, MA, is sunny and windy, with a temperature of 72°F.\n"
     ]
    }
   ],
   "source": [
    "\n",
    "agent = Agent(tools=[WeatherPlugin()])\n",
    "\n",
    "response = await agent.run(\"What is the weather and temperature like in boston?\")\n",
    "\n",
    "print(response.content)"
   ]
  }
 ],
 "metadata": {
  "kernelspec": {
   "display_name": ".venv",
   "language": "python",
   "name": "python3"
  },
  "language_info": {
   "codemirror_mode": {
    "name": "ipython",
    "version": 3
   },
   "file_extension": ".py",
   "mimetype": "text/x-python",
   "name": "python",
   "nbconvert_exporter": "python",
   "pygments_lexer": "ipython3",
   "version": "3.13.2"
  }
 },
 "nbformat": 4,
 "nbformat_minor": 5
}

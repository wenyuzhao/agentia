{
 "cells": [
  {
   "cell_type": "markdown",
   "id": "1f95bce7",
   "metadata": {},
   "source": [
    "# Vision"
   ]
  },
  {
   "cell_type": "code",
   "execution_count": null,
   "id": "aede5cf7",
   "metadata": {},
   "outputs": [
    {
     "data": {
      "text/plain": [
       "True"
      ]
     },
     "execution_count": 1,
     "metadata": {},
     "output_type": "execute_result"
    }
   ],
   "source": [
    "from agentia import Agent, UserMessage, ContentPartText, ContentPartImage\n",
    "import dotenv\n",
    "\n",
    "dotenv.load_dotenv()"
   ]
  },
  {
   "cell_type": "code",
   "execution_count": 2,
   "id": "79de2473",
   "metadata": {},
   "outputs": [
    {
     "name": "stdout",
     "output_type": "stream",
     "text": [
      "This is an illustration of a cute cartoon cat.\n"
     ]
    }
   ],
   "source": [
    "agent = Agent(model=\"gpt-4o-mini\")\n",
    "\n",
    "response = await agent.run(\n",
    "    UserMessage(\n",
    "        content=[\n",
    "            ContentPartText(\"What is this animal?\"),\n",
    "            ContentPartImage(\n",
    "                \"https://icons.iconarchive.com/icons/iconarchive/cute-animal/256/Cute-Cat-icon.png\"\n",
    "            ),\n",
    "        ],\n",
    "    ),\n",
    ")\n",
    "\n",
    "print(response.content)"
   ]
  }
 ],
 "metadata": {
  "kernelspec": {
   "display_name": ".venv",
   "language": "python",
   "name": "python3"
  },
  "language_info": {
   "codemirror_mode": {
    "name": "ipython",
    "version": 3
   },
   "file_extension": ".py",
   "mimetype": "text/x-python",
   "name": "python",
   "nbconvert_exporter": "python",
   "pygments_lexer": "ipython3",
   "version": "3.12.3"
  }
 },
 "nbformat": 4,
 "nbformat_minor": 5
}

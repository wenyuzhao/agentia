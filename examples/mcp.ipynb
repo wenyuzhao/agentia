{
 "cells": [
  {
   "cell_type": "markdown",
   "id": "a2ce50ef",
   "metadata": {},
   "source": [
    "# Use MCP Servers"
   ]
  },
  {
   "cell_type": "code",
   "execution_count": 1,
   "id": "a2271ccf",
   "metadata": {},
   "outputs": [],
   "source": [
    "from agentia import Agent\n",
    "from agentia.mcp import MCPServer, MCPContext\n",
    "import dotenv\n",
    "import os\n",
    "\n",
    "dotenv.load_dotenv()\n",
    "\n",
    "assert (\n",
    "    \"OPENROUTER_API_KEY\" in os.environ\n",
    "), \"Please set OPENROUTER_API_KEY in your environment variables.\""
   ]
  },
  {
   "cell_type": "code",
   "execution_count": null,
   "id": "d63ef092",
   "metadata": {},
   "outputs": [
    {
     "name": "stdout",
     "output_type": "stream",
     "text": [
      "The result of 234 raised to the power of 3 is 12,812,904.\n"
     ]
    }
   ],
   "source": [
    "async with MCPContext():\n",
    "    agent = Agent(\n",
    "        model=\"openai/gpt-4.1-nano\",\n",
    "        tools=[\n",
    "            # https://github.com/githejie/mcp-server-calculator\n",
    "            MCPServer(name=\"calculator\", command=\"uvx\", args=[\"mcp-server-calculator\"])\n",
    "        ],\n",
    "    )\n",
    "    response = await agent.run(\"Calculate 234 ** 3\")\n",
    "    print(response.content)"
   ]
  }
 ],
 "metadata": {
  "kernelspec": {
   "display_name": "agentia",
   "language": "python",
   "name": "python3"
  },
  "language_info": {
   "codemirror_mode": {
    "name": "ipython",
    "version": 3
   },
   "file_extension": ".py",
   "mimetype": "text/x-python",
   "name": "python",
   "nbconvert_exporter": "python",
   "pygments_lexer": "ipython3",
   "version": "3.12.3"
  }
 },
 "nbformat": 4,
 "nbformat_minor": 5
}

{
 "cells": [
  {
   "cell_type": "markdown",
   "id": "8edc4961",
   "metadata": {},
   "source": [
    "# User Confirmation In Tools"
   ]
  },
  {
   "cell_type": "code",
   "execution_count": 1,
   "id": "35079fc1",
   "metadata": {},
   "outputs": [
    {
     "data": {
      "text/plain": [
       "True"
      ]
     },
     "execution_count": 1,
     "metadata": {},
     "output_type": "execute_result"
    }
   ],
   "source": [
    "from agentia import Agent, UserConsentEvent, AssistantMessage\n",
    "from typing import Annotated\n",
    "import dotenv\n",
    "\n",
    "dotenv.load_dotenv()"
   ]
  },
  {
   "cell_type": "markdown",
   "id": "1f8ea1d8",
   "metadata": {},
   "source": [
    "### User Confirmation Before Running Sensitive/Important Actions"
   ]
  },
  {
   "cell_type": "code",
   "execution_count": null,
   "id": "27c4b877",
   "metadata": {},
   "outputs": [
    {
     "name": "stdout",
     "output_type": "stream",
     "text": [
      "Received consent event: Are you sure you want to calculate this?\n",
      "User responded with: y\n",
      "AssistantMessage(content='The result of \\\\(2 + 2\\\\) is \\\\(4\\\\).', reasoning=None, tool_calls=[], role='assistant')\n"
     ]
    }
   ],
   "source": [
    "def calc(expression: Annotated[str, \"The expression to calculate\"]):\n",
    "    \"\"\"Calculate the result of a mathematical expression\"\"\"\n",
    "\n",
    "    if not (yield UserConsentEvent(message=\"Are you sure you want to calculate this?\")):\n",
    "        return \"User did not consent to calculation.\"\n",
    "\n",
    "    return eval(expression)\n",
    "\n",
    "\n",
    "agent = Agent(tools=[calc])\n",
    "\n",
    "run = agent.run(\"What is the result of 2 + 2?\", events=True)\n",
    "\n",
    "async for event in run:\n",
    "    if isinstance(event, UserConsentEvent):\n",
    "        # You need to handle the user consent event and respond accordingly\n",
    "        print(f\"Received consent event: {event.message}\")\n",
    "        while True:\n",
    "            response = input(event.message + (\" (y/n): \")).lower().strip()\n",
    "            if response in (\"y\", \"yes\", \"n\", \"no\"):\n",
    "                break\n",
    "        print(f\"User responded with: {response}\")\n",
    "        event.response = response in (\"y\", \"yes\")\n",
    "    elif isinstance(event, AssistantMessage):\n",
    "        print(event)"
   ]
  },
  {
   "cell_type": "markdown",
   "id": "aaaed8a3",
   "metadata": {},
   "source": [
    "### For Async Tools\n",
    "\n",
    "For async tools, it is not possible to return the result after making the tool an async generator.\n",
    "\n",
    "Raise a `ToolResult` instance instead."
   ]
  },
  {
   "cell_type": "code",
   "execution_count": 3,
   "id": "4ed9aab6",
   "metadata": {},
   "outputs": [],
   "source": [
    "from agentia import ToolResult\n",
    "\n",
    "\n",
    "async def calc(expression: Annotated[str, \"The expression to calculate\"]):\n",
    "    \"\"\"Calculate the result of a mathematical expression\"\"\"\n",
    "\n",
    "    if not (yield UserConsentEvent(\"Are you sure you want to calculate this?\")):\n",
    "        raise ToolResult(\"User did not consent to calculation.\")\n",
    "\n",
    "    raise ToolResult(eval(expression))"
   ]
  }
 ],
 "metadata": {
  "kernelspec": {
   "display_name": "agentia",
   "language": "python",
   "name": "python3"
  },
  "language_info": {
   "codemirror_mode": {
    "name": "ipython",
    "version": 3
   },
   "file_extension": ".py",
   "mimetype": "text/x-python",
   "name": "python",
   "nbconvert_exporter": "python",
   "pygments_lexer": "ipython3",
   "version": "3.13.2"
  }
 },
 "nbformat": 4,
 "nbformat_minor": 5
}

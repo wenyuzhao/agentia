{
 "cells": [
  {
   "cell_type": "markdown",
   "metadata": {},
   "source": [
    "# Basic Usages"
   ]
  },
  {
   "cell_type": "code",
   "execution_count": 2,
   "metadata": {},
   "outputs": [],
   "source": [
    "from agentia import Agent\n",
    "from typing import Annotated, Literal\n",
    "import dotenv\n",
    "import os\n",
    "\n",
    "dotenv.load_dotenv()\n",
    "\n",
    "assert (\n",
    "    \"OPENROUTER_API_KEY\" in os.environ\n",
    "), \"Please set OPENROUTER_API_KEY in your environment variables.\""
   ]
  },
  {
   "cell_type": "markdown",
   "metadata": {},
   "source": [
    "### Basic Chat"
   ]
  },
  {
   "cell_type": "code",
   "execution_count": 4,
   "metadata": {},
   "outputs": [
    {
     "name": "stdout",
     "output_type": "stream",
     "text": [
      "Hello! I'm doing great, thank you. How can I assist you today?\n"
     ]
    }
   ],
   "source": [
    "agent = Agent(model=\"openai/gpt-4.1-mini\")\n",
    "\n",
    "response = await agent.run(\"Hi, how are you?\")\n",
    "\n",
    "print(response.text)"
   ]
  },
  {
   "attachments": {},
   "cell_type": "markdown",
   "metadata": {},
   "source": [
    "### Use Tools"
   ]
  },
  {
   "cell_type": "code",
   "execution_count": 6,
   "metadata": {},
   "outputs": [
    {
     "name": "stdout",
     "output_type": "stream",
     "text": [
      "The weather in Boston is currently 72 degrees Celsius, with sunny and windy conditions.\n"
     ]
    }
   ],
   "source": [
    "def get_weather(\n",
    "    location: Annotated[str, \"The city and state, e.g. San Francisco, CA\"],\n",
    "    unit: Annotated[\n",
    "        Literal[\"celsius\", \"fahrenheit\"], \"The unit for the temperature\"\n",
    "    ] = \"fahrenheit\",\n",
    "):\n",
    "    \"\"\"Get the current weather in a given location\"\"\"\n",
    "    return {\n",
    "        \"location\": location,\n",
    "        \"temperature\": \"72\",\n",
    "        \"unit\": unit,\n",
    "        \"forecast\": [\"sunny\", \"windy\"],\n",
    "    }\n",
    "\n",
    "\n",
    "agent = Agent(model=\"openai/gpt-4.1-mini\", tools=[get_weather])\n",
    "\n",
    "response = await agent.run(\"What is the weather like in boston?\")\n",
    "\n",
    "print(response.text)"
   ]
  },
  {
   "cell_type": "markdown",
   "metadata": {},
   "source": [
    "### Use Plugins"
   ]
  },
  {
   "cell_type": "code",
   "execution_count": 7,
   "metadata": {},
   "outputs": [
    {
     "name": "stdout",
     "output_type": "stream",
     "text": [
      "provider_options=None role='assistant' content=[MessagePartToolCall(type='tool-call', tool_call_id='call_wcd7gACnynHQ0RLcxYSqGqal', tool_name='Calculator__evaluate', input='{\"expression\":\"2 + 3\"}', provider_executed=None, provider_options=None)]\n",
      "provider_options=None role='assistant' content=[MessagePartText(provider_options=None, type='text', text='2 + 3 is 5.')]\n"
     ]
    }
   ],
   "source": [
    "from agentia.plugins import CalculatorPlugin\n",
    "\n",
    "agent = Agent(model=\"openai/gpt-4.1-mini\", tools=[CalculatorPlugin()])\n",
    "\n",
    "run = agent.run(\"What is 2 + 3?\")\n",
    "\n",
    "async for msg in run:\n",
    "    print(msg)"
   ]
  },
  {
   "cell_type": "markdown",
   "metadata": {},
   "source": [
    "### Stream Responses"
   ]
  },
  {
   "cell_type": "code",
   "execution_count": 8,
   "metadata": {},
   "outputs": [
    {
     "name": "stdout",
     "output_type": "stream",
     "text": [
      "Donald Trump is an American businessman, television personality, and politician who served as the 45th President of the United States from January 20, 2017, to January 20, 2021. Before his presidency, he was well-known as a real estate developer and for hosting the reality TV show \"The Apprentice.\" As president, his policies and style were often controversial and sparked significant political and social debate. If you want information on a specific aspect of his life or career, feel free to ask!\n"
     ]
    }
   ],
   "source": [
    "agent = Agent(model=\"openai/gpt-4.1-mini\")\n",
    "\n",
    "run = agent.run(\"Who is Trump?\", stream=True)\n",
    "\n",
    "async for stream in run:\n",
    "    if stream.type == \"message-stream\":\n",
    "        async for s in stream:\n",
    "            print(s, end=\"\", flush=True)\n",
    "print()"
   ]
  }
 ],
 "metadata": {
  "kernelspec": {
   "display_name": "agentia",
   "language": "python",
   "name": "python3"
  },
  "language_info": {
   "codemirror_mode": {
    "name": "ipython",
    "version": 3
   },
   "file_extension": ".py",
   "mimetype": "text/x-python",
   "name": "python",
   "nbconvert_exporter": "python",
   "pygments_lexer": "ipython3",
   "version": "3.12.3"
  },
  "orig_nbformat": 4
 },
 "nbformat": 4,
 "nbformat_minor": 2
}

{
 "cells": [
  {
   "cell_type": "markdown",
   "metadata": {},
   "source": [
    "# Basic Usages"
   ]
  },
  {
   "cell_type": "code",
   "execution_count": null,
   "metadata": {},
   "outputs": [
    {
     "data": {
      "text/plain": [
       "True"
      ]
     },
     "execution_count": 1,
     "metadata": {},
     "output_type": "execute_result"
    }
   ],
   "source": [
    "from agentia import Agent\n",
    "from typing import Annotated, Literal\n",
    "import dotenv\n",
    "import os\n",
    "\n",
    "dotenv.load_dotenv()\n",
    "\n",
    "assert (\n",
    "    \"OPENROUTER_API_KEY\" in os.environ\n",
    "), \"Please set OPENROUTER_API_KEY in your environment variables.\""
   ]
  },
  {
   "cell_type": "markdown",
   "metadata": {},
   "source": [
    "### Chat"
   ]
  },
  {
   "cell_type": "code",
   "execution_count": 2,
   "metadata": {},
   "outputs": [
    {
     "name": "stdout",
     "output_type": "stream",
     "text": [
      "I'm just a program, but I'm here and ready to help you! How can I assist you today?\n"
     ]
    }
   ],
   "source": [
    "agent = Agent()\n",
    "\n",
    "response = await agent.run(\"Hi, how are you?\")\n",
    "\n",
    "print(response.content)"
   ]
  },
  {
   "cell_type": "markdown",
   "metadata": {},
   "source": [
    "### Use a Different Model"
   ]
  },
  {
   "cell_type": "code",
   "execution_count": null,
   "metadata": {},
   "outputs": [],
   "source": [
    "# Default move is \"openai/gpt-4o-mini\"\n",
    "agent = Agent(model=\"google/gemini-2.5-flash-preview\")\n",
    "\n",
    "response = await agent.run(\"Hi, how are you?\")\n",
    "\n",
    "print(response.content)"
   ]
  },
  {
   "attachments": {},
   "cell_type": "markdown",
   "metadata": {},
   "source": [
    "### Use Tools"
   ]
  },
  {
   "cell_type": "code",
   "execution_count": 3,
   "metadata": {},
   "outputs": [
    {
     "name": "stdout",
     "output_type": "stream",
     "text": [
      "The weather in Boston, MA is currently 72°F, sunny, and windy.\n"
     ]
    }
   ],
   "source": [
    "def get_weather(\n",
    "    location: Annotated[str, \"The city and state, e.g. San Francisco, CA\"],\n",
    "    unit: Annotated[\n",
    "        Literal[\"celsius\", \"fahrenheit\"], \"The unit for the temperature\"\n",
    "    ] = \"fahrenheit\",\n",
    "):\n",
    "    \"\"\"Get the current weather in a given location\"\"\"\n",
    "    return {\n",
    "        \"location\": location,\n",
    "        \"temperature\": \"72\",\n",
    "        \"unit\": unit,\n",
    "        \"forecast\": [\"sunny\", \"windy\"],\n",
    "    }\n",
    "\n",
    "\n",
    "agent = Agent(tools=[get_weather])\n",
    "\n",
    "response = await agent.run(\"What is the weather like in boston?\")\n",
    "\n",
    "print(response.content)"
   ]
  },
  {
   "cell_type": "markdown",
   "metadata": {},
   "source": [
    "### Use Plugins"
   ]
  },
  {
   "cell_type": "code",
   "execution_count": 4,
   "metadata": {},
   "outputs": [
    {
     "name": "stdout",
     "output_type": "stream",
     "text": [
      "ToolCallEvent(id='call_QOGnwfOHyzTjvAAv7WXskkJ4', agent='fwtwnjzxtvyycdeq', name='Calculator__evaluate', display_name='Calculator@evaluate', description='Execute a math expression and return the result. The expression must be an valid python expression that can be execuated by `eval()`.', arguments={'expression': '2 + 3'}, result=None, metadata=None, role='event.tool_call')\n",
      "ToolCallEvent(id='call_QOGnwfOHyzTjvAAv7WXskkJ4', agent='fwtwnjzxtvyycdeq', name='Calculator__evaluate', display_name='Calculator@evaluate', description='Execute a math expression and return the result. The expression must be an valid python expression that can be execuated by `eval()`.', arguments={'expression': '2 + 3'}, result=5, metadata=None, role='event.tool_call')\n",
      "AssistantMessage(content='The result of \\\\( 2 + 3 \\\\) is \\\\( 5 \\\\).', reasoning=None, tool_calls=[], role='assistant')\n"
     ]
    }
   ],
   "source": [
    "from agentia.plugins import CalculatorPlugin\n",
    "\n",
    "agent = Agent(tools=[CalculatorPlugin()])\n",
    "\n",
    "run = agent.run(\"What is 2 + 3?\", events=True)\n",
    "\n",
    "async for event in run:\n",
    "    print(event)"
   ]
  },
  {
   "cell_type": "markdown",
   "metadata": {},
   "source": [
    "### Print Every Step of a Run"
   ]
  },
  {
   "cell_type": "code",
   "execution_count": 5,
   "metadata": {},
   "outputs": [
    {
     "name": "stdout",
     "output_type": "stream",
     "text": [
      "AssistantMessage(content='To calculate the sum of 2 and 3, the plan is as follows:\\n\\n1. Identify the mathematical operation to perform, which in this case is addition.\\n2. Construct the expression that represents this operation: `2 + 3`.\\n3. Use the Calculator tool to evaluate the expression.\\n\\nNow, I will proceed to call the tool to evaluate the expression.', reasoning=None, tool_calls=[], role='assistant')\n"
     ]
    }
   ],
   "source": [
    "from agentia.plugins import CalculatorPlugin\n",
    "\n",
    "agent = Agent(tools=[CalculatorPlugin()])\n",
    "\n",
    "run = agent.run(\"What is 2 + 3? Show your plan before calling tools.\", events=True)\n",
    "\n",
    "async for event in run:\n",
    "    print(event)"
   ]
  },
  {
   "cell_type": "markdown",
   "metadata": {},
   "source": [
    "### Stream Responses"
   ]
  },
  {
   "cell_type": "code",
   "execution_count": 6,
   "metadata": {},
   "outputs": [
    {
     "name": "stdout",
     "output_type": "stream",
     "text": [
      "Donald Trump is an American businessman, television personality, and politician who served as the 45th president of the United States from January 2017 to January 2021. Before entering politics, he was known for his real estate empire, particularly as the head of the Trump Organization, and for hosting the reality television show \"The Apprentice.\" Trump's presidency was marked by significant policy changes, controversies, and a highly polarized political climate. After losing the 2020 election to Joe Biden, Trump has remained a prominent figure in American politics.\n"
     ]
    }
   ],
   "source": [
    "agent = Agent()\n",
    "\n",
    "run = agent.run(\"Who is Trump?\", stream=True)\n",
    "\n",
    "async for stream in run:\n",
    "    async for s in stream:\n",
    "        print(s, end=\"\", flush=True)\n",
    "print()"
   ]
  }
 ],
 "metadata": {
  "kernelspec": {
   "display_name": ".venv",
   "language": "python",
   "name": "python3"
  },
  "language_info": {
   "codemirror_mode": {
    "name": "ipython",
    "version": 3
   },
   "file_extension": ".py",
   "mimetype": "text/x-python",
   "name": "python",
   "nbconvert_exporter": "python",
   "pygments_lexer": "ipython3",
   "version": "3.12.3"
  },
  "orig_nbformat": 4
 },
 "nbformat": 4,
 "nbformat_minor": 2
}

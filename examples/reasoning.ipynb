{
 "cells": [
  {
   "cell_type": "markdown",
   "id": "7eb0571e",
   "metadata": {},
   "source": [
    "# Reasoning"
   ]
  },
  {
   "cell_type": "code",
   "execution_count": 1,
   "id": "df892c35",
   "metadata": {},
   "outputs": [
    {
     "data": {
      "text/plain": [
       "True"
      ]
     },
     "execution_count": 1,
     "metadata": {},
     "output_type": "execute_result"
    }
   ],
   "source": [
    "from agentia import Agent\n",
    "import dotenv\n",
    "\n",
    "dotenv.load_dotenv()"
   ]
  },
  {
   "cell_type": "markdown",
   "id": "c3ef9230",
   "metadata": {},
   "source": [
    "### Print Reasoning Text"
   ]
  },
  {
   "cell_type": "code",
   "execution_count": 2,
   "id": "a9676c17",
   "metadata": {},
   "outputs": [
    {
     "name": "stdout",
     "output_type": "stream",
     "text": [
      "Okay, the user is asking what is 2 plus 3. Let me think. Well, 2 plus 3 is simple addition. If I have two apples and someone gives me three more, I would have five apples in total. So, 2 + 3 equals 5. I should double-check to make sure. Let me count on my fingers. Two fingers up, then adding three more. One, two, three. Yep, that's five. No, wait, adding three to two: that's 2, then 3 more makes 5. Yeah, definitely 5. No confusion there. So the answer must be 5.\n",
      "\n",
      "5.\n",
      "\n",
      "To calculate \\(2 + 3\\):\n",
      "1. Start with the number **2**.\n",
      "2. Add **3** to it: \\(2 + 3\\).\n",
      "3. The result is **5**.\n",
      "\n",
      "Answer: **5**\n"
     ]
    }
   ],
   "source": [
    "# Simply choose a model that supports output reasoning tokens\n",
    "agent = Agent(model=\"deepseek/deepseek-r1\")\n",
    "\n",
    "response = await agent.run(\"What is 2 + 3?\")\n",
    "\n",
    "print(response.reasoning)\n",
    "print(response.content)"
   ]
  },
  {
   "cell_type": "markdown",
   "id": "25368654",
   "metadata": {},
   "source": [
    "### Streaming"
   ]
  },
  {
   "cell_type": "code",
   "execution_count": 3,
   "id": "b427eaa4",
   "metadata": {},
   "outputs": [
    {
     "name": "stdout",
     "output_type": "stream",
     "text": [
      "[Reasoning]\n",
      "Okay, the user is asking \"What is 2 + 3?\" Hmm, they might be just starting out with math, or maybe they want to check if I can handle simple arithmetic. Let me think... 2 plus 3 should be straightforward. Wait, or is there a trick here? Sometimes people use base systems other than 10, but the question doesn't specify. I'll assume it's regular base 10. So 2 + 3 equals 5. But let me make sure I'm not missing something. Maybe they made a typo and meant something else? No, the question is pretty clear. Probably just a simple addition problem. Alright, I'll go with 5. Better keep it short and direct unless they ask for more details.\n",
      "\n",
      "[Response]\n",
      "The sum of 2 and 3 is **5**.\n"
     ]
    }
   ],
   "source": [
    "# Simply choose a model that supports output reasoning tokens\n",
    "agent = Agent(model=\"deepseek/deepseek-r1\")\n",
    "\n",
    "run = agent.run(\"What is 2 + 3?\", stream=True)\n",
    "\n",
    "async for stream in run:\n",
    "    # Stream Reasoning\n",
    "    if stream.reasoning:\n",
    "        print(\"[Reasoning]\")\n",
    "        async for token in stream.reasoning:\n",
    "            print(token, end=\"\", flush=True)\n",
    "    print()\n",
    "    # Stream Response\n",
    "    print(\"[Response]\")\n",
    "    async for token in stream:\n",
    "        print(token, end=\"\", flush=True)\n",
    "    print()"
   ]
  }
 ],
 "metadata": {
  "kernelspec": {
   "display_name": ".venv",
   "language": "python",
   "name": "python3"
  },
  "language_info": {
   "codemirror_mode": {
    "name": "ipython",
    "version": 3
   },
   "file_extension": ".py",
   "mimetype": "text/x-python",
   "name": "python",
   "nbconvert_exporter": "python",
   "pygments_lexer": "ipython3",
   "version": "3.12.3"
  }
 },
 "nbformat": 4,
 "nbformat_minor": 5
}

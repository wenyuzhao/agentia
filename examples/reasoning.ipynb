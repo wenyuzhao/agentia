{
 "cells": [
  {
   "cell_type": "markdown",
   "id": "7eb0571e",
   "metadata": {},
   "source": [
    "# Reasoning"
   ]
  },
  {
   "cell_type": "code",
   "execution_count": 1,
   "id": "df892c35",
   "metadata": {},
   "outputs": [
    {
     "data": {
      "text/plain": [
       "True"
      ]
     },
     "execution_count": 1,
     "metadata": {},
     "output_type": "execute_result"
    }
   ],
   "source": [
    "from agentia import Agent\n",
    "import dotenv\n",
    "\n",
    "dotenv.load_dotenv()"
   ]
  },
  {
   "cell_type": "markdown",
   "id": "c3ef9230",
   "metadata": {},
   "source": [
    "### Print Reasoning Text"
   ]
  },
  {
   "cell_type": "code",
   "execution_count": 2,
   "id": "a9676c17",
   "metadata": {},
   "outputs": [
    {
     "name": "stdout",
     "output_type": "stream",
     "text": [
      "[REASONING]\n",
      " Okay, so I need to figure out what 2 plus 3 is. Let me start by recalling basic addition. When you add two numbers, you're combining their values. So, if I have 2 apples and someone gives me 3 more apples, how many apples do I have in total?\n",
      "\n",
      "Let me count them out. Starting with 2, then add 3 one by one. So, 2... then 3 more: 3, 4, 5. Wait, that seems right. So 2 plus 3 equals 5. But maybe I should double-check using another method to be sure.\n",
      "\n",
      "Another way to think about addition is using a number line. Starting at 2, then moving 3 units to the right. Let's visualize that. Starting at 2, first step is 3, then 4, then 5. Yep, that lands on 5. So that confirms it again.\n",
      "\n",
      "Alternatively, I can break down the numbers. Maybe 3 is the same as 2 plus 1. So, 2 plus 3 is 2 plus (2 plus 1). Then grouping them as (2 plus 2) plus 1. That would be 4 plus 1, which is 5. Hmm, same result.\n",
      "\n",
      "Wait, is there any chance I could have made a mistake here? Let me try adding another pair of numbers to test my method. Say, 1 plus 4. Using the same counting method: 1, then add 4: 2, 3, 4, 5. So 1 plus 4 is 5. That's correct. So maybe my approach is right.\n",
      "\n",
      "Alternatively, using the number line for 1 plus 4: start at 1, move 4 steps: 2, 3, 4, 5. Correct. So if that works, then 2 plus 3 should indeed be 5.\n",
      "\n",
      "Another way to verify is using objects. If I have 2 pens and 3 pens, putting them together gives me 5 pens. Let me count: 1, 2, then 3, 4, 5. Yes, that's 5 pens total.\n",
      "\n",
      "Wait, maybe I should check with subtraction. If 2 plus 3 is 5, then 5 minus 3 should be 2. Let's see: 5 minus 3 is 2. That works. Similarly, 5 minus 2 is 3. That also checks out. So the inverse operations confirm the result.\n",
      "\n",
      "Or using multiplication, though that might be overcomplicating. If I think of 2 times 3, that's 6, but addition is different. No, that's not helpful here. Stick to addition methods.\n",
      "\n",
      "Alternatively, using fingers. Hold up 2 fingers on one hand and 3 on the other. Total fingers? 2 + 3 = 5. Yep, that's straightforward.\n",
      "\n",
      "I guess all methods point to the same answer. There's no ambiguity here. Basic arithmetic rules apply. Single-digit addition is pretty much memorized, but going through the motions helps ensure there's no mistake.\n",
      "\n",
      "Wait, maybe I can write it out numerically:\n",
      "\n",
      "  2\n",
      "+3\n",
      "---\n",
      "  5\n",
      "\n",
      "Yes, aligning the numbers vertically, adding the units place: 2 + 3 = 5. No carrying over needed. So the sum is 5.\n",
      "\n",
      "Is there any cultural or contextual factor that might affect this? Like different number systems? But the question is in standard Arabic numerals, base 10. So 2 and 3 are as we know them. If it were binary, 2 is 10 and 3 is 11, but adding those would be different, but the question doesn't specify that. So assuming base 10, the answer is 5.\n",
      "\n",
      "Alternatively, in Roman numerals: II + III = V. Which is 5. So even in that system, it's consistent.\n",
      "\n",
      "Therefore, after verifying through multiple methods—counting, number line, inverse operations, different numeral systems—it's clear that 2 plus 3 equals 5. I don't see any room for error here. The answer must be 5.\n",
      "\n",
      "---\n",
      "[CONTENT]\n",
      " The sum of 2 and 3 is calculated by adding the two numbers together:\n",
      "\n",
      "\\[\n",
      "2 + 3 = 5\n",
      "\\]\n",
      "\n",
      "**Step-by-Step Explanation:**\n",
      "1. **Start with the first number:** 2.\n",
      "2. **Add the second number:** 3.\n",
      "3. **Count the total:** Combining 2 and 3 results in 5.\n",
      "\n",
      "**Verification Methods:**\n",
      "- **Number Line:** Starting at 2, moving 3 units right lands at 5.\n",
      "- **Inverse Operations:** \\(5 - 3 = 2\\) and \\(5 - 2 = 3\\) confirm the result.\n",
      "- **Physical Objects:** Combining 2 items with 3 items totals 5.\n",
      "- **Different Numeral Systems:** Both Arabic (2 + 3) and Roman (II + III = V) numerals yield 5.\n",
      "\n",
      "**Answer:** 5\n"
     ]
    }
   ],
   "source": [
    "agent = Agent(\n",
    "    model=\"deepseek/deepseek-r1:think\"  # Add :think to receive reasoning tokens\n",
    ")\n",
    "\n",
    "response = await agent.run(\"What is 2 + 3?\")\n",
    "\n",
    "print(\"[REASONING]\\n\", response.reasoning)\n",
    "print(\"---\")\n",
    "print(\"[CONTENT]\\n\", response.text)"
   ]
  },
  {
   "cell_type": "markdown",
   "id": "25368654",
   "metadata": {},
   "source": [
    "### Streaming"
   ]
  },
  {
   "cell_type": "code",
   "execution_count": 3,
   "id": "b427eaa4",
   "metadata": {},
   "outputs": [
    {
     "name": "stdout",
     "output_type": "stream",
     "text": [
      "[REASONING]\n",
      "Okay, let's see. The user asked \"What is 2 + 3?\" again. They just repeated the same question. Maybe they didn't see the first answer, or maybe they want confirmation. Either way, I need to respond accurately.\n",
      "\n",
      "First, I'll recall that addition is straightforward. 2 plus 3. Let me visualize it. If I have two apples and add three more, I count them all: 1, 2, 3, 4, 5. So that's five. \n",
      "\n",
      "Alternatively, using number line: start at 2, move 3 steps to the right. That lands on 5. Yep, that checks out. \n",
      "\n",
      "No variables here, just basic arithmetic. No chance of confusion with multiplication or subtraction. The plus sign is clear. Maybe the user is testing if I'm consistent? Or perhaps a child learning math wants to verify their answer. Either way, the answer remains 5. \n",
      "\n",
      "I should make sure there's no trick in the question. Sometimes people use base systems other than decimal, but the question doesn't specify. Assuming base 10, 2 + 3 is definitely 5. \n",
      "\n",
      "No need for complicated methods here. Simple addition. Answer is 5. Just need to present it clearly and confirm the result.\n",
      "---\n",
      "---\n",
      "[CONTENT]\n",
      "The sum of 2 and 3 is **5**.  \n",
      "\n",
      "If you have any follow-up questions or need further clarification, feel free to ask! 😊\n"
     ]
    }
   ],
   "source": [
    "run = agent.run(\"What is 2 + 3?\", stream=True)\n",
    "\n",
    "async for stream in run:\n",
    "    # Stream Reasoning\n",
    "    if stream.type == \"reasoning-stream\":\n",
    "        print(\"[REASONING]\")\n",
    "        async for s in stream:\n",
    "            print(s, end=\"\", flush=True)\n",
    "        print()\n",
    "    print(\"---\")\n",
    "    # Stream Response\n",
    "    if stream.type == \"message-stream\":\n",
    "        print(\"[CONTENT]\")\n",
    "        async for s in stream:\n",
    "            print(s, end=\"\", flush=True)\n",
    "        print()"
   ]
  }
 ],
 "metadata": {
  "kernelspec": {
   "display_name": "agentia",
   "language": "python",
   "name": "python3"
  },
  "language_info": {
   "codemirror_mode": {
    "name": "ipython",
    "version": 3
   },
   "file_extension": ".py",
   "mimetype": "text/x-python",
   "name": "python",
   "nbconvert_exporter": "python",
   "pygments_lexer": "ipython3",
   "version": "3.12.3"
  }
 },
 "nbformat": 4,
 "nbformat_minor": 5
}

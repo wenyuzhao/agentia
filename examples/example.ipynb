{
 "cells": [
  {
   "attachments": {},
   "cell_type": "markdown",
   "metadata": {},
   "source": [
    "# AugmentedGPT Playground\n",
    "\n",
    "Please run `poetry install` under the project root directory. This will install all the necessary dependencies for you."
   ]
  },
  {
   "attachments": {},
   "cell_type": "markdown",
   "metadata": {},
   "source": [
    "## Imports and set API key"
   ]
  },
  {
   "cell_type": "code",
   "execution_count": 1,
   "metadata": {},
   "outputs": [],
   "source": [
    "from augmented_gpt import *\n",
    "import getpass\n",
    "AugmentedGPT.set_api_key(getpass.getpass('Enter your OpenAI API key: '))"
   ]
  },
  {
   "attachments": {},
   "cell_type": "markdown",
   "metadata": {},
   "source": [
    "## Create a GPT instance that can use tools, and remembers the conversation in a long-term memory storage."
   ]
  },
  {
   "cell_type": "code",
   "execution_count": 2,
   "metadata": {},
   "outputs": [
    {
     "name": "stderr",
     "output_type": "stream",
     "text": [
      "[INFO:AugmentedGPT] Register-Function: send_email\n",
      "[INFO:AugmentedGPT] Register-Function: Timestamp-get_current_timestamp\n",
      "[INFO:AugmentedGPT] Register-Function: Memory-remember\n",
      "[INFO:AugmentedGPT] Register-Function: Memory-search_from_memory\n",
      "[INFO:AugmentedGPT] Register-Function: Calculator-evaluate\n"
     ]
    },
    {
     "ename": "TypeError",
     "evalue": "Cannot instantiate typing.Union",
     "output_type": "error",
     "traceback": [
      "\u001b[0;31m---------------------------------------------------------------------------\u001b[0m",
      "\u001b[0;31mTypeError\u001b[0m                                 Traceback (most recent call last)",
      "\u001b[1;32m/home/wenyu/Workspace/augmented-gpt/examples/example.ipynb Cell 5\u001b[0m line \u001b[0;36m2\n\u001b[1;32m     <a href='vscode-notebook-cell://code.wenyu.me/home/wenyu/Workspace/augmented-gpt/examples/example.ipynb#W4sdnNjb2RlLXJlbW90ZQ%3D%3D?line=17'>18</a>\u001b[0m gpt\u001b[39m.\u001b[39mget_plugin(\u001b[39m\"\u001b[39m\u001b[39mMemory\u001b[39m\u001b[39m\"\u001b[39m)\u001b[39m.\u001b[39mclear_memory() \u001b[39m# type: ignore\u001b[39;00m\n\u001b[1;32m     <a href='vscode-notebook-cell://code.wenyu.me/home/wenyu/Workspace/augmented-gpt/examples/example.ipynb#W4sdnNjb2RlLXJlbW90ZQ%3D%3D?line=19'>20</a>\u001b[0m completion \u001b[39m=\u001b[39m gpt\u001b[39m.\u001b[39mchat_completion([\n\u001b[1;32m     <a href='vscode-notebook-cell://code.wenyu.me/home/wenyu/Workspace/augmented-gpt/examples/example.ipynb#W4sdnNjb2RlLXJlbW90ZQ%3D%3D?line=20'>21</a>\u001b[0m     Message(role\u001b[39m=\u001b[39mRole\u001b[39m.\u001b[39mUSER, content\u001b[39m=\u001b[39m\u001b[39m\"\u001b[39m\u001b[39mSteve was wondering what is the distance between moon and earth \u001b[39m\u001b[39m\\\u001b[39;00m\n\u001b[1;32m     <a href='vscode-notebook-cell://code.wenyu.me/home/wenyu/Workspace/augmented-gpt/examples/example.ipynb#W4sdnNjb2RlLXJlbW90ZQ%3D%3D?line=21'>22</a>\u001b[0m \u001b[39m        divided by two. Figure this out and send him an email.\u001b[39m\u001b[39m\"\u001b[39m),\n\u001b[1;32m     <a href='vscode-notebook-cell://code.wenyu.me/home/wenyu/Workspace/augmented-gpt/examples/example.ipynb#W4sdnNjb2RlLXJlbW90ZQ%3D%3D?line=22'>23</a>\u001b[0m ])\n\u001b[0;32m---> <a href='vscode-notebook-cell://code.wenyu.me/home/wenyu/Workspace/augmented-gpt/examples/example.ipynb#W4sdnNjb2RlLXJlbW90ZQ%3D%3D?line=24'>25</a>\u001b[0m \u001b[39masync\u001b[39;00m \u001b[39mfor\u001b[39;00m response \u001b[39min\u001b[39;00m completion:\n\u001b[1;32m     <a href='vscode-notebook-cell://code.wenyu.me/home/wenyu/Workspace/augmented-gpt/examples/example.ipynb#W4sdnNjb2RlLXJlbW90ZQ%3D%3D?line=25'>26</a>\u001b[0m     \u001b[39mprint\u001b[39m(response)\n",
      "File \u001b[0;32m~/Workspace/augmented-gpt/augmented_gpt/augmented_gpt.py:72\u001b[0m, in \u001b[0;36mChatCompletion.__anext__\u001b[0;34m(self)\u001b[0m\n\u001b[1;32m     71\u001b[0m \u001b[39masync\u001b[39;00m \u001b[39mdef\u001b[39;00m \u001b[39m__anext__\u001b[39m(\u001b[39mself\u001b[39m) \u001b[39m-\u001b[39m\u001b[39m>\u001b[39m M:\n\u001b[0;32m---> 72\u001b[0m     \u001b[39mreturn\u001b[39;00m \u001b[39mawait\u001b[39;00m \u001b[39mself\u001b[39m\u001b[39m.\u001b[39m__agen\u001b[39m.\u001b[39m\u001b[39m__anext__\u001b[39m()\n",
      "File \u001b[0;32m~/Workspace/augmented-gpt/augmented_gpt/augmented_gpt.py:266\u001b[0m, in \u001b[0;36mAugmentedGPT.__chat_completion\u001b[0;34m(self, messages, stream, context_free)\u001b[0m\n\u001b[1;32m    264\u001b[0m     message \u001b[39m=\u001b[39m s\u001b[39m.\u001b[39mmessage()\n\u001b[1;32m    265\u001b[0m \u001b[39melse\u001b[39;00m:\n\u001b[0;32m--> 266\u001b[0m     message \u001b[39m=\u001b[39m \u001b[39mawait\u001b[39;00m \u001b[39mself\u001b[39m\u001b[39m.\u001b[39m__chat_completion_request(history, stream\u001b[39m=\u001b[39m\u001b[39mFalse\u001b[39;00m)\n\u001b[1;32m    267\u001b[0m     \u001b[39myield\u001b[39;00m message\n\u001b[1;32m    268\u001b[0m history\u001b[39m.\u001b[39mappend(message)\n",
      "File \u001b[0;32m~/Workspace/augmented-gpt/augmented_gpt/augmented_gpt.py:212\u001b[0m, in \u001b[0;36mAugmentedGPT.__chat_completion_request\u001b[0;34m(self, messages, stream)\u001b[0m\n\u001b[1;32m    208\u001b[0m \u001b[39masync\u001b[39;00m \u001b[39mdef\u001b[39;00m \u001b[39m__chat_completion_request\u001b[39m(\n\u001b[1;32m    209\u001b[0m     \u001b[39mself\u001b[39m, messages: List[Message], stream: \u001b[39mbool\u001b[39m\n\u001b[1;32m    210\u001b[0m ) \u001b[39m-\u001b[39m\u001b[39m>\u001b[39m Message \u001b[39m|\u001b[39m MessageStream:\n\u001b[1;32m    211\u001b[0m     functions \u001b[39m=\u001b[39m [x \u001b[39mfor\u001b[39;00m (x, _) \u001b[39min\u001b[39;00m \u001b[39mself\u001b[39m\u001b[39m.\u001b[39m__functions\u001b[39m.\u001b[39mvalues()]\n\u001b[0;32m--> 212\u001b[0m     msgs: List[ChatCompletionMessageParam] \u001b[39m=\u001b[39m [\n\u001b[1;32m    213\u001b[0m         m\u001b[39m.\u001b[39;49mto_chat_completion_message_param() \u001b[39mfor\u001b[39;49;00m m \u001b[39min\u001b[39;49;00m messages\n\u001b[1;32m    214\u001b[0m     ]\n\u001b[1;32m    215\u001b[0m     args: Any \u001b[39m=\u001b[39m {\n\u001b[1;32m    216\u001b[0m         \u001b[39m\"\u001b[39m\u001b[39mmodel\u001b[39m\u001b[39m\"\u001b[39m: \u001b[39mself\u001b[39m\u001b[39m.\u001b[39mmodel,\n\u001b[1;32m    217\u001b[0m         \u001b[39m\"\u001b[39m\u001b[39mmessages\u001b[39m\u001b[39m\"\u001b[39m: msgs,\n\u001b[1;32m    218\u001b[0m         \u001b[39m*\u001b[39m\u001b[39m*\u001b[39m\u001b[39mself\u001b[39m\u001b[39m.\u001b[39mgpt_options\u001b[39m.\u001b[39mas_kwargs(),\n\u001b[1;32m    219\u001b[0m     }\n\u001b[1;32m    220\u001b[0m     \u001b[39mif\u001b[39;00m \u001b[39mlen\u001b[39m(functions) \u001b[39m>\u001b[39m \u001b[39m0\u001b[39m:\n",
      "File \u001b[0;32m~/Workspace/augmented-gpt/augmented_gpt/augmented_gpt.py:213\u001b[0m, in \u001b[0;36m<listcomp>\u001b[0;34m(.0)\u001b[0m\n\u001b[1;32m    208\u001b[0m \u001b[39masync\u001b[39;00m \u001b[39mdef\u001b[39;00m \u001b[39m__chat_completion_request\u001b[39m(\n\u001b[1;32m    209\u001b[0m     \u001b[39mself\u001b[39m, messages: List[Message], stream: \u001b[39mbool\u001b[39m\n\u001b[1;32m    210\u001b[0m ) \u001b[39m-\u001b[39m\u001b[39m>\u001b[39m Message \u001b[39m|\u001b[39m MessageStream:\n\u001b[1;32m    211\u001b[0m     functions \u001b[39m=\u001b[39m [x \u001b[39mfor\u001b[39;00m (x, _) \u001b[39min\u001b[39;00m \u001b[39mself\u001b[39m\u001b[39m.\u001b[39m__functions\u001b[39m.\u001b[39mvalues()]\n\u001b[1;32m    212\u001b[0m     msgs: List[ChatCompletionMessageParam] \u001b[39m=\u001b[39m [\n\u001b[0;32m--> 213\u001b[0m         m\u001b[39m.\u001b[39;49mto_chat_completion_message_param() \u001b[39mfor\u001b[39;00m m \u001b[39min\u001b[39;00m messages\n\u001b[1;32m    214\u001b[0m     ]\n\u001b[1;32m    215\u001b[0m     args: Any \u001b[39m=\u001b[39m {\n\u001b[1;32m    216\u001b[0m         \u001b[39m\"\u001b[39m\u001b[39mmodel\u001b[39m\u001b[39m\"\u001b[39m: \u001b[39mself\u001b[39m\u001b[39m.\u001b[39mmodel,\n\u001b[1;32m    217\u001b[0m         \u001b[39m\"\u001b[39m\u001b[39mmessages\u001b[39m\u001b[39m\"\u001b[39m: msgs,\n\u001b[1;32m    218\u001b[0m         \u001b[39m*\u001b[39m\u001b[39m*\u001b[39m\u001b[39mself\u001b[39m\u001b[39m.\u001b[39mgpt_options\u001b[39m.\u001b[39mas_kwargs(),\n\u001b[1;32m    219\u001b[0m     }\n\u001b[1;32m    220\u001b[0m     \u001b[39mif\u001b[39;00m \u001b[39mlen\u001b[39m(functions) \u001b[39m>\u001b[39m \u001b[39m0\u001b[39m:\n",
      "File \u001b[0;32m~/Workspace/augmented-gpt/augmented_gpt/message.py:98\u001b[0m, in \u001b[0;36mMessage.to_chat_completion_message_param\u001b[0;34m(self)\u001b[0m\n\u001b[1;32m     94\u001b[0m     \u001b[39mreturn\u001b[39;00m ChatCompletionMessageParam(\n\u001b[1;32m     95\u001b[0m         content\u001b[39m=\u001b[39m\u001b[39mself\u001b[39m\u001b[39m.\u001b[39mcontent \u001b[39mor\u001b[39;00m \u001b[39m\"\u001b[39m\u001b[39m\"\u001b[39m, role\u001b[39m=\u001b[39m\u001b[39mself\u001b[39m\u001b[39m.\u001b[39mrole\u001b[39m.\u001b[39mvalue, name\u001b[39m=\u001b[39m\u001b[39mself\u001b[39m\u001b[39m.\u001b[39mname\n\u001b[1;32m     96\u001b[0m     )\n\u001b[1;32m     97\u001b[0m \u001b[39melse\u001b[39;00m:\n\u001b[0;32m---> 98\u001b[0m     \u001b[39mreturn\u001b[39;00m ChatCompletionMessageParam(\n\u001b[1;32m     99\u001b[0m         content\u001b[39m=\u001b[39;49m\u001b[39mself\u001b[39;49m\u001b[39m.\u001b[39;49mcontent \u001b[39mor\u001b[39;49;00m \u001b[39m\"\u001b[39;49m\u001b[39m\"\u001b[39;49m, role\u001b[39m=\u001b[39;49m\u001b[39mself\u001b[39;49m\u001b[39m.\u001b[39;49mrole\u001b[39m.\u001b[39;49mvalue\n\u001b[1;32m    100\u001b[0m     )\n",
      "File \u001b[0;32m/usr/lib/python3.11/typing.py:1268\u001b[0m, in \u001b[0;36m_BaseGenericAlias.__call__\u001b[0;34m(self, *args, **kwargs)\u001b[0m\n\u001b[1;32m   1265\u001b[0m \u001b[39mif\u001b[39;00m \u001b[39mnot\u001b[39;00m \u001b[39mself\u001b[39m\u001b[39m.\u001b[39m_inst:\n\u001b[1;32m   1266\u001b[0m     \u001b[39mraise\u001b[39;00m \u001b[39mTypeError\u001b[39;00m(\u001b[39mf\u001b[39m\u001b[39m\"\u001b[39m\u001b[39mType \u001b[39m\u001b[39m{\u001b[39;00m\u001b[39mself\u001b[39m\u001b[39m.\u001b[39m_name\u001b[39m}\u001b[39;00m\u001b[39m cannot be instantiated; \u001b[39m\u001b[39m\"\u001b[39m\n\u001b[1;32m   1267\u001b[0m                     \u001b[39mf\u001b[39m\u001b[39m\"\u001b[39m\u001b[39muse \u001b[39m\u001b[39m{\u001b[39;00m\u001b[39mself\u001b[39m\u001b[39m.\u001b[39m__origin__\u001b[39m.\u001b[39m\u001b[39m__name__\u001b[39m\u001b[39m}\u001b[39;00m\u001b[39m() instead\u001b[39m\u001b[39m\"\u001b[39m)\n\u001b[0;32m-> 1268\u001b[0m result \u001b[39m=\u001b[39m \u001b[39mself\u001b[39;49m\u001b[39m.\u001b[39;49m__origin__(\u001b[39m*\u001b[39;49margs, \u001b[39m*\u001b[39;49m\u001b[39m*\u001b[39;49mkwargs)\n\u001b[1;32m   1269\u001b[0m \u001b[39mtry\u001b[39;00m:\n\u001b[1;32m   1270\u001b[0m     result\u001b[39m.\u001b[39m__orig_class__ \u001b[39m=\u001b[39m \u001b[39mself\u001b[39m\n",
      "File \u001b[0;32m/usr/lib/python3.11/typing.py:465\u001b[0m, in \u001b[0;36m_SpecialForm.__call__\u001b[0;34m(self, *args, **kwds)\u001b[0m\n\u001b[1;32m    464\u001b[0m \u001b[39mdef\u001b[39;00m \u001b[39m__call__\u001b[39m(\u001b[39mself\u001b[39m, \u001b[39m*\u001b[39margs, \u001b[39m*\u001b[39m\u001b[39m*\u001b[39mkwds):\n\u001b[0;32m--> 465\u001b[0m     \u001b[39mraise\u001b[39;00m \u001b[39mTypeError\u001b[39;00m(\u001b[39mf\u001b[39m\u001b[39m\"\u001b[39m\u001b[39mCannot instantiate \u001b[39m\u001b[39m{\u001b[39;00m\u001b[39mself\u001b[39m\u001b[39m!r}\u001b[39;00m\u001b[39m\"\u001b[39m)\n",
      "\u001b[0;31mTypeError\u001b[0m: Cannot instantiate typing.Union"
     ]
    }
   ],
   "source": [
    "@function\n",
    "def send_email(\n",
    "    topic: str = param(\"The email topic\"),\n",
    "    to: str = param(\"The recipient email address\"),\n",
    "    content: str = param(\"The content of the email\"),\n",
    "):\n",
    "    \"\"\"Send an email to a recipient\"\"\"\n",
    "    gpt.logger.debug(f\"➡️ send_email to {to}\")\n",
    "    print(f\"---\")\n",
    "    print(f\"TOPIC: {topic}\")\n",
    "    print(f\"TO: {to}\")\n",
    "    print(f\"CONTENT:\\n\\n{content}\")\n",
    "    print(f\"---\")\n",
    "    return \"done.\"\n",
    "\n",
    "gpt = AugmentedGPT(functions=[send_email], plugins=plugins.all_plugins(), debug=True)\n",
    "\n",
    "gpt.get_plugin(\"Memory\").clear_memory() # type: ignore\n",
    "\n",
    "completion = gpt.chat_completion([\n",
    "    Message(role=Role.USER, content=\"Steve was wondering what is the distance between moon and earth \\\n",
    "        divided by two. Figure this out and send him an email.\"),\n",
    "])\n",
    "\n",
    "async for response in completion:\n",
    "    print(response)"
   ]
  },
  {
   "attachments": {},
   "cell_type": "markdown",
   "metadata": {},
   "source": [
    "## Create another GPT instance that inherits and utilizes the memory."
   ]
  },
  {
   "cell_type": "code",
   "execution_count": null,
   "metadata": {},
   "outputs": [
    {
     "name": "stderr",
     "output_type": "stream",
     "text": [
      "[INFO:AugmentedGPT] Register-Function: send_email\n",
      "[INFO:AugmentedGPT] Register-Function: Timestamp-get_current_timestamp\n",
      "[INFO:AugmentedGPT] Register-Function: Memory-remember\n",
      "[INFO:AugmentedGPT] Register-Function: Memory-search_from_memory\n",
      "[INFO:AugmentedGPT] Register-Function: Calculator-evaluate\n"
     ]
    },
    {
     "name": "stdout",
     "output_type": "stream",
     "text": [
      "Message(role='assistant', content=None, name=None, function_call={'name': 'Memory-search_from_memory', 'arguments': '{\\n  \"query\": \"moon and earth distance\"\\n}'})\n"
     ]
    },
    {
     "name": "stderr",
     "output_type": "stream",
     "text": [
      "[DEBUG:AugmentedGPT] ➡️ search_from_memory: moon and earth distance\n"
     ]
    },
    {
     "name": "stdout",
     "output_type": "stream",
     "text": [
      "Message(role='function', content='TIMESTAMP: 2023-06-28T08:52:19.787939\\nCONTENT:\\n{\"role\": \"assistant\", \"content\": \"I have figured out the distance between the Moon and Earth divided by two. It is approximately 192,200 kilometers. I have sent an email to Steve with this information.\"}\\n\\n---\\n\\nTIMESTAMP: 2023-06-28T08:52:13.823684\\nCONTENT:\\n{\"role\": \"user\", \"content\": \"Steve was wondering what is the distance between moon and earth         divided by two. Figure this out and send him an email.\"}\\n\\n---\\n\\nTIMESTAMP: 2023-06-28T08:52:30.869264\\nCONTENT:\\n{\"role\": \"user\", \"content\": \"Ok Steve asked for the Moon and Earth distance question again         after 10 days! Email him the answer if you can still remember, and tell him         he already asked for this before!\"}\\n\\n---\\n\\n', name='Memory-search_from_memory', function_call=None)\n",
      "Message(role='assistant', content=None, name=None, function_call={'name': 'send_email', 'arguments': '{\\n  \"topic\": \"Moon and Earth Distance\",\\n  \"to\": \"steve@example.com\",\\n  \"content\": \"Hey Steve,\\\\n\\\\nI remember you asked me about the distance between the Moon and Earth divided by two before. The approximate distance is 192,200 kilometers. If you have any other questions, feel free to ask!\\\\n\\\\nBest regards,\\\\nAssistant\"\\n}'})\n"
     ]
    },
    {
     "name": "stderr",
     "output_type": "stream",
     "text": [
      "[DEBUG:AugmentedGPT] ➡️ send_email to steve@example.com\n"
     ]
    },
    {
     "name": "stdout",
     "output_type": "stream",
     "text": [
      "---\n",
      "TOPIC: Moon and Earth Distance\n",
      "TO: steve@example.com\n",
      "CONTENT:\n",
      "\n",
      "Hey Steve,\n",
      "\n",
      "I remember you asked me about the distance between the Moon and Earth divided by two before. The approximate distance is 192,200 kilometers. If you have any other questions, feel free to ask!\n",
      "\n",
      "Best regards,\n",
      "Assistant\n",
      "---\n",
      "Message(role='function', content='done.', name='send_email', function_call=None)\n",
      "Message(role='assistant', content='I have emailed Steve with the answer to his question about the distance between the Moon and Earth divided by two. I also mentioned in the email that he had asked this question before.', name=None, function_call=None)\n"
     ]
    }
   ],
   "source": [
    "gpt = AugmentedGPT(functions=[send_email], plugins=plugins.all_plugins(), debug=True)\n",
    "\n",
    "# Make it retrieve the answer from the memorized conversation history\n",
    "completion = gpt.chat_completion([\n",
    "    Message(role=Role.USER, content=\"Ok Steve asked for the Moon and Earth distance question again \\\n",
    "        after 10 days! Email him the answer if you can still remember, and tell him \\\n",
    "        he already asked for this before!\"),\n",
    "])\n",
    "\n",
    "async for message in completion:\n",
    "    print(message)"
   ]
  }
 ],
 "metadata": {
  "kernelspec": {
   "display_name": "gpt-functions-3M8shESb-py3.10",
   "language": "python",
   "name": "python3"
  },
  "language_info": {
   "codemirror_mode": {
    "name": "ipython",
    "version": 3
   },
   "file_extension": ".py",
   "mimetype": "text/x-python",
   "name": "python",
   "nbconvert_exporter": "python",
   "pygments_lexer": "ipython3",
   "version": "3.11.6"
  },
  "orig_nbformat": 4
 },
 "nbformat": 4,
 "nbformat_minor": 2
}

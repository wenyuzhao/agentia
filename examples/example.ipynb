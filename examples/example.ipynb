{
 "cells": [
  {
   "attachments": {},
   "cell_type": "markdown",
   "metadata": {},
   "source": [
    "# AugmentedGPT Playground\n",
    "\n",
    "Please run `poetry install` under the project root directory. This will install all the necessary dependencies for you."
   ]
  },
  {
   "attachments": {},
   "cell_type": "markdown",
   "metadata": {},
   "source": [
    "## Imports and set API key"
   ]
  },
  {
   "cell_type": "code",
   "execution_count": 1,
   "metadata": {},
   "outputs": [
    {
     "data": {
      "text/plain": [
       "True"
      ]
     },
     "execution_count": 1,
     "metadata": {},
     "output_type": "execute_result"
    }
   ],
   "source": [
    "from agentia import Agent, UserMessage, plugins\n",
    "import dotenv\n",
    "from typing import Annotated\n",
    "\n",
    "dotenv.load_dotenv()"
   ]
  },
  {
   "attachments": {},
   "cell_type": "markdown",
   "metadata": {},
   "source": [
    "## Create a GPT instance that can use tools."
   ]
  },
  {
   "cell_type": "code",
   "execution_count": 2,
   "metadata": {},
   "outputs": [
    {
     "name": "stdout",
     "output_type": "stream",
     "text": [
      "--- SEND EMAIL ---\n",
      "TOPIC: Distance from Moon to Earth (Divided by 2)\n",
      "TO: steve@example.com\n",
      "CONTENT:\n",
      "\n",
      "The distance from the Moon to the Earth is approximately 384,400 km. When divided by two, it is 192,200 km.\n",
      "---\n",
      "I have sent an email to Steve informing him that the distance between the Moon and Earth divided by two is 192,200 km.\n"
     ]
    }
   ],
   "source": [
    "def send_email(\n",
    "    topic: Annotated[str, \"The email topic\"],\n",
    "    to: Annotated[str, \"The recipient email address\"],\n",
    "    content: Annotated[str, \"The content of the email\"],\n",
    "):\n",
    "    \"\"\"Send an email to a recipient\"\"\"\n",
    "    print(f\"--- SEND EMAIL ---\")\n",
    "    print(f\"TOPIC: {topic}\")\n",
    "    print(f\"TO: {to}\")\n",
    "    print(f\"CONTENT:\\n\\n{content}\")\n",
    "    print(f\"---\")\n",
    "    return \"done.\"\n",
    "\n",
    "\n",
    "agent = Agent(tools=[send_email, plugins.CalculatorPlugin()], debug=True)\n",
    "\n",
    "response = await agent.chat_completion(\n",
    "    [\n",
    "        UserMessage(\n",
    "            \"Send Steve an email and tell him the distance between moon and earth divided by two.\"\n",
    "        ),\n",
    "    ]\n",
    ")\n",
    "\n",
    "print(response)"
   ]
  }
 ],
 "metadata": {
  "kernelspec": {
   "display_name": "augmented-gpt-3Ol7sUl8-py3.12",
   "language": "python",
   "name": "python3"
  },
  "language_info": {
   "codemirror_mode": {
    "name": "ipython",
    "version": 3
   },
   "file_extension": ".py",
   "mimetype": "text/x-python",
   "name": "python",
   "nbconvert_exporter": "python",
   "pygments_lexer": "ipython3",
   "version": "3.12.7"
  },
  "orig_nbformat": 4
 },
 "nbformat": 4,
 "nbformat_minor": 2
}

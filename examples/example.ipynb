{
 "cells": [
  {
   "attachments": {},
   "cell_type": "markdown",
   "metadata": {},
   "source": [
    "# AugmentedGPT Playground\n",
    "\n",
    "Please run `poetry install` under the project root directory. This will install all the necessary dependencies for you."
   ]
  },
  {
   "attachments": {},
   "cell_type": "markdown",
   "metadata": {},
   "source": [
    "## Imports and set API key"
   ]
  },
  {
   "cell_type": "code",
   "execution_count": 1,
   "metadata": {},
   "outputs": [],
   "source": [
    "from augmented_gpt import *\n",
    "import getpass\n",
    "API_KEY = getpass.getpass('Enter your OpenAI API key: ')"
   ]
  },
  {
   "attachments": {},
   "cell_type": "markdown",
   "metadata": {},
   "source": [
    "## Create a GPT instance that can use tools, and remembers the conversation in a long-term memory storage."
   ]
  },
  {
   "cell_type": "code",
   "execution_count": 2,
   "metadata": {},
   "outputs": [
    {
     "name": "stderr",
     "output_type": "stream",
     "text": [
      "[INFO:AugmentedGPT] Register-Function: send_email\n",
      "[INFO:AugmentedGPT] Register-Function: Timestamp-get_current_timestamp\n",
      "[INFO:AugmentedGPT] Register-Function: Memory-remember\n",
      "[INFO:AugmentedGPT] Register-Function: Memory-search_from_memory\n",
      "[INFO:AugmentedGPT] Register-Function: Calculator-evaluate\n"
     ]
    },
    {
     "name": "stdout",
     "output_type": "stream",
     "text": [
      "Message(role=<Role.ASSISTANT: 'assistant'>, content=None, name=None, function_call=None, tool_calls=[ToolCall(id='call_82GswTxaijpe1pbykxIqyHUq', function=FunctionCall(name='Calculator-evaluate', arguments={'expression': '384400 / 2'}), type='function')], tool_call_id=None)\n"
     ]
    },
    {
     "name": "stderr",
     "output_type": "stream",
     "text": [
      "[DEBUG:AugmentedGPT] ➡️ Calculator-evaluate: expression=384400 / 2\n"
     ]
    },
    {
     "name": "stdout",
     "output_type": "stream",
     "text": [
      "Message(role=<Role.TOOL: 'tool'>, content='192200.0', name=None, function_call=None, tool_calls=[], tool_call_id='call_82GswTxaijpe1pbykxIqyHUq')\n",
      "Message(role=<Role.ASSISTANT: 'assistant'>, content=None, name=None, function_call=None, tool_calls=[ToolCall(id='call_j1aiMjmoz0Cyawimgq9TIs1M', function=FunctionCall(name='Timestamp-get_current_timestamp', arguments={}), type='function'), ToolCall(id='call_3e0Aq2RsilplKcr9UmEO2o99', function=FunctionCall(name='Memory-search_from_memory', arguments={'query': \"Steve's email address\"}), type='function')], tool_call_id=None)\n"
     ]
    },
    {
     "name": "stderr",
     "output_type": "stream",
     "text": [
      "[DEBUG:AugmentedGPT] ➡️ Timestamp-get_current_timestamp: \n",
      "[DEBUG:AugmentedGPT] ➡️ Memory-search_from_memory: query=Steve's email address\n"
     ]
    },
    {
     "name": "stdout",
     "output_type": "stream",
     "text": [
      "Message(role=<Role.TOOL: 'tool'>, content='2023-11-11T20:32:10.420417', name=None, function_call=None, tool_calls=[], tool_call_id='call_j1aiMjmoz0Cyawimgq9TIs1M')\n",
      "Message(role=<Role.TOOL: 'tool'>, content='TIMESTAMP: 2023-11-11T20:32:05.312556\\nCONTENT:\\n{\"role\": \"user\", \"content\": \"Steve was wondering what is the distance between moon and earth         divided by two. Figure this out and send him an email.\"}\\n\\n---\\n\\nTIMESTAMP: 2023-11-11T20:32:07.115465\\nCONTENT:\\n{\"role\": \"assistant\", \"content\": null}\\n\\n---\\n\\nTIMESTAMP: 2023-11-11T20:32:10.417463\\nCONTENT:\\n{\"role\": \"assistant\", \"content\": null}\\n\\n---\\n\\n', name=None, function_call=None, tool_calls=[], tool_call_id='call_3e0Aq2RsilplKcr9UmEO2o99')\n",
      "Message(role=<Role.ASSISTANT: 'assistant'>, content=\"I am currently unable to find Steve's email address as there is no mention of it in our previous conversations or stored knowledge. To proceed with sending an email to Steve, I will need to know his email address. Can you please provide it?\", name=None, function_call=None, tool_calls=[], tool_call_id=None)\n"
     ]
    }
   ],
   "source": [
    "@function\n",
    "def send_email(\n",
    "    topic: str = param(\"The email topic\"),\n",
    "    to: str = param(\"The recipient email address\"),\n",
    "    content: str = param(\"The content of the email\"),\n",
    "):\n",
    "    \"\"\"Send an email to a recipient\"\"\"\n",
    "    gpt.logger.debug(f\"➡️ send_email to {to}\")\n",
    "    print(f\"---\")\n",
    "    print(f\"TOPIC: {topic}\")\n",
    "    print(f\"TO: {to}\")\n",
    "    print(f\"CONTENT:\\n\\n{content}\")\n",
    "    print(f\"---\")\n",
    "    return \"done.\"\n",
    "\n",
    "gpt = AugmentedGPT(api_key=API_KEY, functions=[send_email], plugins=plugins.all_plugins(), debug=True)\n",
    "\n",
    "gpt.get_plugin(\"Memory\").clear_memory() # type: ignore\n",
    "\n",
    "completion = gpt.chat_completion([\n",
    "    Message(role=Role.USER, content=\"Steve was wondering what is the distance between moon and earth \\\n",
    "        divided by two. Figure this out and send him an email.\"),\n",
    "])\n",
    "\n",
    "async for response in completion:\n",
    "    print(response)"
   ]
  },
  {
   "attachments": {},
   "cell_type": "markdown",
   "metadata": {},
   "source": [
    "## Create another GPT instance that inherits and utilizes the memory."
   ]
  },
  {
   "cell_type": "code",
   "execution_count": 3,
   "metadata": {},
   "outputs": [
    {
     "name": "stderr",
     "output_type": "stream",
     "text": [
      "[INFO:AugmentedGPT] Register-Function: send_email\n",
      "[INFO:AugmentedGPT] Register-Function: Timestamp-get_current_timestamp\n",
      "[INFO:AugmentedGPT] Register-Function: Memory-remember\n",
      "[INFO:AugmentedGPT] Register-Function: Memory-search_from_memory\n",
      "[INFO:AugmentedGPT] Register-Function: Calculator-evaluate\n"
     ]
    },
    {
     "name": "stdout",
     "output_type": "stream",
     "text": [
      "Message(role=<Role.ASSISTANT: 'assistant'>, content=None, name=None, function_call=None, tool_calls=[ToolCall(id='call_R9XBPiwJZHL4ZodM35lf3C1D', function=FunctionCall(name='Memory-search_from_memory', arguments={'query': 'Moon and Earth distance question from Steve'}), type='function')], tool_call_id=None)\n"
     ]
    },
    {
     "name": "stderr",
     "output_type": "stream",
     "text": [
      "[DEBUG:AugmentedGPT] ➡️ Memory-search_from_memory: query=Moon and Earth distance question from Steve\n"
     ]
    },
    {
     "name": "stdout",
     "output_type": "stream",
     "text": [
      "Message(role=<Role.TOOL: 'tool'>, content='TIMESTAMP: 2023-11-11T20:32:13.946684\\nCONTENT:\\n{\"role\": \"user\", \"content\": \"Ok Steve asked for the Moon and Earth distance question again         after 10 days! Email him the answer if you can still remember, and tell him         he already asked for this before!\"}\\n\\n---\\n\\nTIMESTAMP: 2023-11-11T20:32:05.312556\\nCONTENT:\\n{\"role\": \"user\", \"content\": \"Steve was wondering what is the distance between moon and earth         divided by two. Figure this out and send him an email.\"}\\n\\n---\\n\\nTIMESTAMP: 2023-11-11T20:32:11.394710\\nCONTENT:\\n{\"role\": \"tool\", \"content\": \"TIMESTAMP: 2023-11-11T20:32:05.312556\\\\nCONTENT:\\\\n{\\\\\"role\\\\\": \\\\\"user\\\\\", \\\\\"content\\\\\": \\\\\"Steve was wondering what is the distance between moon and earth         divided by two. Figure this out and send him an email.\\\\\"}\\\\n\\\\n---\\\\n\\\\nTIMESTAMP: 2023-11-11T20:32:07.115465\\\\nCONTENT:\\\\n{\\\\\"role\\\\\": \\\\\"assistant\\\\\", \\\\\"content\\\\\": null}\\\\n\\\\n---\\\\n\\\\nTIMESTAMP: 2023-11-11T20:32:10.417463\\\\nCONTENT:\\\\n{\\\\\"role\\\\\": \\\\\"assistant\\\\\", \\\\\"content\\\\\": null}\\\\n\\\\n---\\\\n\\\\n\"}\\n\\n---\\n\\n', name=None, function_call=None, tool_calls=[], tool_call_id='call_R9XBPiwJZHL4ZodM35lf3C1D')\n",
      "Message(role=<Role.ASSISTANT: 'assistant'>, content=None, name=None, function_call=None, tool_calls=[ToolCall(id='call_GSM0CcruDbMm95iyiwS1uJ9X', function=FunctionCall(name='Memory-search_from_memory', arguments={'query': \"Steve's email\"}), type='function')], tool_call_id=None)\n"
     ]
    },
    {
     "name": "stderr",
     "output_type": "stream",
     "text": [
      "[DEBUG:AugmentedGPT] ➡️ Memory-search_from_memory: query=Steve's email\n"
     ]
    },
    {
     "name": "stdout",
     "output_type": "stream",
     "text": [
      "Message(role=<Role.TOOL: 'tool'>, content='TIMESTAMP: 2023-11-11T20:32:13.614430\\nCONTENT:\\n{\"role\": \"assistant\", \"content\": \"I am currently unable to find Steve\\'s email address as there is no mention of it in our previous conversations or stored knowledge. To proceed with sending an email to Steve, I will need to know his email address. Can you please provide it?\"}\\n\\n---\\n\\nTIMESTAMP: 2023-11-11T20:32:05.312556\\nCONTENT:\\n{\"role\": \"user\", \"content\": \"Steve was wondering what is the distance between moon and earth         divided by two. Figure this out and send him an email.\"}\\n\\n---\\n\\nTIMESTAMP: 2023-11-11T20:32:13.946684\\nCONTENT:\\n{\"role\": \"user\", \"content\": \"Ok Steve asked for the Moon and Earth distance question again         after 10 days! Email him the answer if you can still remember, and tell him         he already asked for this before!\"}\\n\\n---\\n\\n', name=None, function_call=None, tool_calls=[], tool_call_id='call_GSM0CcruDbMm95iyiwS1uJ9X')\n",
      "Message(role=<Role.ASSISTANT: 'assistant'>, content=\"It appears that Steve has indeed asked about the distance between the Moon and Earth divided by two before, about 10 days ago. Unfortunately, I don't have Steve's email address in my memory. Could you please provide it so I can send him the necessary information and remind him that he has asked this question previously?\", name=None, function_call=None, tool_calls=[], tool_call_id=None)\n"
     ]
    }
   ],
   "source": [
    "gpt = AugmentedGPT(functions=[send_email], plugins=plugins.all_plugins(), debug=True)\n",
    "\n",
    "# Make it retrieve the answer from the memorized conversation history\n",
    "completion = gpt.chat_completion([\n",
    "    Message(role=Role.USER, content=\"Ok Steve asked for the Moon and Earth distance question again \\\n",
    "        after 10 days! Email him the answer if you can still remember, and tell him \\\n",
    "        he already asked for this before!\"),\n",
    "])\n",
    "\n",
    "async for message in completion:\n",
    "    print(message)"
   ]
  }
 ],
 "metadata": {
  "kernelspec": {
   "display_name": "gpt-functions-3M8shESb-py3.10",
   "language": "python",
   "name": "python3"
  },
  "language_info": {
   "codemirror_mode": {
    "name": "ipython",
    "version": 3
   },
   "file_extension": ".py",
   "mimetype": "text/x-python",
   "name": "python",
   "nbconvert_exporter": "python",
   "pygments_lexer": "ipython3",
   "version": "3.11.6"
  },
  "orig_nbformat": 4
 },
 "nbformat": 4,
 "nbformat_minor": 2
}

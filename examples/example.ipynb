{
 "cells": [
  {
   "attachments": {},
   "cell_type": "markdown",
   "metadata": {},
   "source": [
    "# AugmentedGPT Playground\n",
    "\n",
    "<a target=\"_blank\" href=\"https://colab.research.google.com/github/wenyuzhao/augmented-gpt/blob/main/examples/example.ipynb\">\n",
    "  <img src=\"https://colab.research.google.com/assets/colab-badge.svg\" alt=\"Open In Colab\"/>\n",
    "</a>"
   ]
  },
  {
   "cell_type": "code",
   "execution_count": 1,
   "metadata": {},
   "outputs": [
    {
     "name": "stdout",
     "output_type": "stream",
     "text": [
      "Note: you may need to restart the kernel to use updated packages.\n"
     ]
    }
   ],
   "source": [
    "%pip install augmented-gpt --quiet"
   ]
  },
  {
   "attachments": {},
   "cell_type": "markdown",
   "metadata": {},
   "source": [
    "## Imports and set API key"
   ]
  },
  {
   "cell_type": "code",
   "execution_count": 1,
   "metadata": {},
   "outputs": [],
   "source": [
    "from augmented_gpt import *\n",
    "import getpass\n",
    "AugmentedGPT.set_api_key(getpass.getpass('Enter your OpenAI API key: '))"
   ]
  },
  {
   "attachments": {},
   "cell_type": "markdown",
   "metadata": {},
   "source": [
    "## Create a GPT instance that can use tools, and remembers the conversation in a long-term memory storage."
   ]
  },
  {
   "cell_type": "code",
   "execution_count": 2,
   "metadata": {},
   "outputs": [
    {
     "name": "stderr",
     "output_type": "stream",
     "text": [
      "[INFO:AugmentedGPT] Register-Function: send_email\n",
      "[INFO:AugmentedGPT] Register-Function: Timestamp-get_current_timestamp\n",
      "[INFO:AugmentedGPT] Register-Function: Memory-remember\n",
      "[INFO:AugmentedGPT] Register-Function: Memory-search_from_memory\n",
      "[INFO:AugmentedGPT] Register-Function: Calculator-evaluate\n"
     ]
    },
    {
     "name": "stdout",
     "output_type": "stream",
     "text": [
      "Message(role='assistant', content=None, name='Calculator-evaluate', function_call=FunctionCall(name='Calculator-evaluate', arguments={'expression': '384400 / 2'}))\n"
     ]
    },
    {
     "name": "stderr",
     "output_type": "stream",
     "text": [
      "[DEBUG:AugmentedGPT] ➡️ Calculator-evaluate: expression=384400 / 2\n"
     ]
    },
    {
     "name": "stdout",
     "output_type": "stream",
     "text": [
      "Message(role='function', content='192200.0', name='Calculator-evaluate', function_call=None)\n",
      "Message(role='assistant', content=None, name='send_email', function_call=FunctionCall(name='send_email', arguments={'topic': 'Distance between Moon and Earth divided by two', 'to': 'steve@example.com', 'content': 'The distance between the Earth and the Moon divided by two is 192,200 kilometers.'}))\n"
     ]
    },
    {
     "name": "stderr",
     "output_type": "stream",
     "text": [
      "[DEBUG:AugmentedGPT] ➡️ send_email: topic=Distance between Moon and Earth divided by two, to=steve@example.com, content=The distance between the Earth and the Moon divided by two is 192,200 kilometers.\n",
      "[DEBUG:AugmentedGPT] ➡️ send_email to steve@example.com\n"
     ]
    },
    {
     "name": "stdout",
     "output_type": "stream",
     "text": [
      "---\n",
      "TOPIC: Distance between Moon and Earth divided by two\n",
      "TO: steve@example.com\n",
      "CONTENT:\n",
      "\n",
      "The distance between the Earth and the Moon divided by two is 192,200 kilometers.\n",
      "---\n",
      "Message(role='function', content='done.', name='send_email', function_call=None)\n",
      "Message(role='assistant', content=\"I've sent an email to Steve.\", name=None, function_call=None)\n"
     ]
    }
   ],
   "source": [
    "@function\n",
    "def send_email(\n",
    "    topic: str = param(\"The email topic\"),\n",
    "    to: str = param(\"The recipient email address\"),\n",
    "    content: str = param(\"The content of the email\"),\n",
    "):\n",
    "    \"\"\"Send an email to a recipient\"\"\"\n",
    "    gpt.logger.debug(f\"➡️ send_email to {to}\")\n",
    "    print(f\"---\")\n",
    "    print(f\"TOPIC: {topic}\")\n",
    "    print(f\"TO: {to}\")\n",
    "    print(f\"CONTENT:\\n\\n{content}\")\n",
    "    print(f\"---\")\n",
    "    return \"done.\"\n",
    "\n",
    "gpt = AugmentedGPT(functions=[send_email], plugins=plugins.all_plugins(), debug=True)\n",
    "\n",
    "gpt.get_plugin(\"Memory\").clear_memory() # type: ignore\n",
    "\n",
    "completion = gpt.chat_completion([\n",
    "    Message(role=Role.USER, content=\"Steve was wondering what is the distance between moon and earth \\\n",
    "        divided by two. Figure this out and send him an email.\"),\n",
    "])\n",
    "\n",
    "async for response in completion:\n",
    "    print(response)"
   ]
  },
  {
   "attachments": {},
   "cell_type": "markdown",
   "metadata": {},
   "source": [
    "## Create another GPT instance that inherits and utilizes the memory."
   ]
  },
  {
   "cell_type": "code",
   "execution_count": null,
   "metadata": {},
   "outputs": [
    {
     "name": "stderr",
     "output_type": "stream",
     "text": [
      "[INFO:AugmentedGPT] Register-Function: send_email\n",
      "[INFO:AugmentedGPT] Register-Function: Timestamp-get_current_timestamp\n",
      "[INFO:AugmentedGPT] Register-Function: Memory-remember\n",
      "[INFO:AugmentedGPT] Register-Function: Memory-search_from_memory\n",
      "[INFO:AugmentedGPT] Register-Function: Calculator-evaluate\n"
     ]
    },
    {
     "name": "stdout",
     "output_type": "stream",
     "text": [
      "Message(role='assistant', content=None, name=None, function_call={'name': 'Memory-search_from_memory', 'arguments': '{\\n  \"query\": \"moon and earth distance\"\\n}'})\n"
     ]
    },
    {
     "name": "stderr",
     "output_type": "stream",
     "text": [
      "[DEBUG:AugmentedGPT] ➡️ search_from_memory: moon and earth distance\n"
     ]
    },
    {
     "name": "stdout",
     "output_type": "stream",
     "text": [
      "Message(role='function', content='TIMESTAMP: 2023-06-28T08:52:19.787939\\nCONTENT:\\n{\"role\": \"assistant\", \"content\": \"I have figured out the distance between the Moon and Earth divided by two. It is approximately 192,200 kilometers. I have sent an email to Steve with this information.\"}\\n\\n---\\n\\nTIMESTAMP: 2023-06-28T08:52:13.823684\\nCONTENT:\\n{\"role\": \"user\", \"content\": \"Steve was wondering what is the distance between moon and earth         divided by two. Figure this out and send him an email.\"}\\n\\n---\\n\\nTIMESTAMP: 2023-06-28T08:52:30.869264\\nCONTENT:\\n{\"role\": \"user\", \"content\": \"Ok Steve asked for the Moon and Earth distance question again         after 10 days! Email him the answer if you can still remember, and tell him         he already asked for this before!\"}\\n\\n---\\n\\n', name='Memory-search_from_memory', function_call=None)\n",
      "Message(role='assistant', content=None, name=None, function_call={'name': 'send_email', 'arguments': '{\\n  \"topic\": \"Moon and Earth Distance\",\\n  \"to\": \"steve@example.com\",\\n  \"content\": \"Hey Steve,\\\\n\\\\nI remember you asked me about the distance between the Moon and Earth divided by two before. The approximate distance is 192,200 kilometers. If you have any other questions, feel free to ask!\\\\n\\\\nBest regards,\\\\nAssistant\"\\n}'})\n"
     ]
    },
    {
     "name": "stderr",
     "output_type": "stream",
     "text": [
      "[DEBUG:AugmentedGPT] ➡️ send_email to steve@example.com\n"
     ]
    },
    {
     "name": "stdout",
     "output_type": "stream",
     "text": [
      "---\n",
      "TOPIC: Moon and Earth Distance\n",
      "TO: steve@example.com\n",
      "CONTENT:\n",
      "\n",
      "Hey Steve,\n",
      "\n",
      "I remember you asked me about the distance between the Moon and Earth divided by two before. The approximate distance is 192,200 kilometers. If you have any other questions, feel free to ask!\n",
      "\n",
      "Best regards,\n",
      "Assistant\n",
      "---\n",
      "Message(role='function', content='done.', name='send_email', function_call=None)\n",
      "Message(role='assistant', content='I have emailed Steve with the answer to his question about the distance between the Moon and Earth divided by two. I also mentioned in the email that he had asked this question before.', name=None, function_call=None)\n"
     ]
    }
   ],
   "source": [
    "gpt = AugmentedGPT(functions=[send_email], plugins=plugins.all_plugins(), debug=True)\n",
    "\n",
    "# Make it retrieve the answer from the memorized conversation history\n",
    "completion = gpt.chat_completion([\n",
    "    Message(role=Role.USER, content=\"Ok Steve asked for the Moon and Earth distance question again \\\n",
    "        after 10 days! Email him the answer if you can still remember, and tell him \\\n",
    "        he already asked for this before!\"),\n",
    "])\n",
    "\n",
    "async for message in completion:\n",
    "    print(message)"
   ]
  }
 ],
 "metadata": {
  "kernelspec": {
   "display_name": "gpt-functions-3M8shESb-py3.10",
   "language": "python",
   "name": "python3"
  },
  "language_info": {
   "codemirror_mode": {
    "name": "ipython",
    "version": 3
   },
   "file_extension": ".py",
   "mimetype": "text/x-python",
   "name": "python",
   "nbconvert_exporter": "python",
   "pygments_lexer": "ipython3",
   "version": "3.11.6"
  },
  "orig_nbformat": 4
 },
 "nbformat": 4,
 "nbformat_minor": 2
}

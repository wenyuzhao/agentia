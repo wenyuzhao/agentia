{
 "cells": [
  {
   "attachments": {},
   "cell_type": "markdown",
   "metadata": {},
   "source": [
    "# AugmentedGPT Playground\n",
    "\n",
    "Please run `poetry install` under the project root directory. This will install all the necessary dependencies for you."
   ]
  },
  {
   "attachments": {},
   "cell_type": "markdown",
   "metadata": {},
   "source": [
    "## Imports and set API key"
   ]
  },
  {
   "cell_type": "code",
   "execution_count": 1,
   "metadata": {},
   "outputs": [],
   "source": [
    "from agentia import *\n",
    "import getpass, dotenv, os\n",
    "from typing import Annotated\n",
    "\n",
    "dotenv.load_dotenv()\n",
    "if \"OPENAI_API_KEY\" not in os.environ:\n",
    "    os.environ[\"OPENAI_API_KEY\"] = getpass.getpass(\"Enter your OpenAI API key: \")"
   ]
  },
  {
   "attachments": {},
   "cell_type": "markdown",
   "metadata": {},
   "source": [
    "## Create a GPT instance that can use tools."
   ]
  },
  {
   "cell_type": "code",
   "execution_count": 4,
   "metadata": {},
   "outputs": [
    {
     "name": "stdout",
     "output_type": "stream",
     "text": [
      "ToolCallEvent(id='call_tL84uFc5Jfm01MxIjQGx9HQI', function=FunctionCall(name='Calculator__evaluate', arguments={'expression': '384400 / 2'}), result=None, type='tool')\n",
      "ToolCallEvent(id='call_tL84uFc5Jfm01MxIjQGx9HQI', function=FunctionCall(name='Calculator__evaluate', arguments={'expression': '384400 / 2'}), result=192200.0, type='tool')\n",
      "ToolCallEvent(id='call_2dZeG0bcG7YSDVCgUsndTyZt', function=FunctionCall(name='send_email', arguments={'topic': 'Distance Calculation: Moon to Earth Halved', 'to': 'steve@example.com', 'content': 'Hi Steve,\\n\\nI hope this message finds you well. I wanted to share an interesting fact with you. The average distance between the Moon and the Earth is approximately 384,400 kilometers. When you divide this distance by two, you get 192,200 kilometers.\\n\\nBest regards,\\n[Your Name]'}), result=None, type='tool')\n",
      "--- SEND EMAIL ---\n",
      "TOPIC: Distance Calculation: Moon to Earth Halved\n",
      "TO: steve@example.com\n",
      "CONTENT:\n",
      "\n",
      "Hi Steve,\n",
      "\n",
      "I hope this message finds you well. I wanted to share an interesting fact with you. The average distance between the Moon and the Earth is approximately 384,400 kilometers. When you divide this distance by two, you get 192,200 kilometers.\n",
      "\n",
      "Best regards,\n",
      "[Your Name]\n",
      "---\n",
      "ToolCallEvent(id='call_2dZeG0bcG7YSDVCgUsndTyZt', function=FunctionCall(name='send_email', arguments={'topic': 'Distance Calculation: Moon to Earth Halved', 'to': 'steve@example.com', 'content': 'Hi Steve,\\n\\nI hope this message finds you well. I wanted to share an interesting fact with you. The average distance between the Moon and the Earth is approximately 384,400 kilometers. When you divide this distance by two, you get 192,200 kilometers.\\n\\nBest regards,\\n[Your Name]'}), result='done.', type='tool')\n",
      "Message(role='assistant', content=\"I've sent an email to Steve with the calculation. The distance between the Moon and Earth divided by two is 192,200 kilometers. Let me know if there's anything else you need!\", name=None, tool_calls=[], tool_call_id=None, files=None, type='message')\n"
     ]
    }
   ],
   "source": [
    "def send_email(\n",
    "    topic: Annotated[str, \"The email topic\"],\n",
    "    to: Annotated[str, \"The recipient email address\"],\n",
    "    content: Annotated[str, \"The content of the email\"],\n",
    "):\n",
    "    \"\"\"Send an email to a recipient\"\"\"\n",
    "    print(f\"--- SEND EMAIL ---\")\n",
    "    print(f\"TOPIC: {topic}\")\n",
    "    print(f\"TO: {to}\")\n",
    "    print(f\"CONTENT:\\n\\n{content}\")\n",
    "    print(f\"---\")\n",
    "    return \"done.\"\n",
    "\n",
    "\n",
    "agent = Agent(tools=[send_email, plugins.CalculatorPlugin()], debug=True)\n",
    "\n",
    "completion = agent.chat_completion(\n",
    "    [\n",
    "        Message(\n",
    "            role=\"user\",\n",
    "            content=\"Send Steve an email and tell him the distance between moon and earth divided by two.\",\n",
    "        ),\n",
    "    ]\n",
    ")\n",
    "\n",
    "async for response in completion:\n",
    "    print(response)"
   ]
  }
 ],
 "metadata": {
  "kernelspec": {
   "display_name": "augmented-gpt-3Ol7sUl8-py3.12",
   "language": "python",
   "name": "python3"
  },
  "language_info": {
   "codemirror_mode": {
    "name": "ipython",
    "version": 3
   },
   "file_extension": ".py",
   "mimetype": "text/x-python",
   "name": "python",
   "nbconvert_exporter": "python",
   "pygments_lexer": "ipython3",
   "version": "3.12.7"
  },
  "orig_nbformat": 4
 },
 "nbformat": 4,
 "nbformat_minor": 2
}

{
 "cells": [
  {
   "attachments": {},
   "cell_type": "markdown",
   "metadata": {},
   "source": [
    "# AugmentedGPT Playground\n",
    "\n",
    "Please run `poetry install` under the project root directory. This will install all the necessary dependencies for you."
   ]
  },
  {
   "attachments": {},
   "cell_type": "markdown",
   "metadata": {},
   "source": [
    "## Imports and set API key"
   ]
  },
  {
   "cell_type": "code",
   "execution_count": 2,
   "metadata": {},
   "outputs": [],
   "source": [
    "from augmented_gpt import *\n",
    "import getpass, dotenv, os\n",
    "\n",
    "dotenv.load_dotenv()\n",
    "if 'OPENAI_API_KEY' not in os.environ:\n",
    "    os.environ['OPENAI_API_KEY'] = getpass.getpass('Enter your OpenAI API key: ')"
   ]
  },
  {
   "attachments": {},
   "cell_type": "markdown",
   "metadata": {},
   "source": [
    "## Create a GPT instance that can use tools."
   ]
  },
  {
   "cell_type": "code",
   "execution_count": 3,
   "metadata": {},
   "outputs": [
    {
     "name": "stdout",
     "output_type": "stream",
     "text": [
      "Message(role=<Role.ASSISTANT: 'assistant'>, content=None, name=None, function_call=None, tool_calls=[ToolCall(id='call_UYgsoLuYBrevw2Mo58QNPoRH', function=FunctionCall(name='ToolRegistry-evaluate', arguments={'expression': '384400 / 2'}), type='function')], tool_call_id=None)\n",
      "Message(role=<Role.TOOL: 'tool'>, content='192200.0', name=None, function_call=None, tool_calls=[], tool_call_id='call_UYgsoLuYBrevw2Mo58QNPoRH')\n",
      "Message(role=<Role.ASSISTANT: 'assistant'>, content=None, name=None, function_call=None, tool_calls=[ToolCall(id='call_9G53xbu8mUiBWoQNW2CYaEqz', function=FunctionCall(name='send_email', arguments={'topic': 'Distance Between Moon and Earth', 'to': 'steve@example.com', 'content': 'Dear Steve,\\n\\nThe distance between the Moon and Earth divided by two is approximately 192,200 kilometers.\\n\\nBest regards.'}), type='function')], tool_call_id=None)\n",
      "--- SEND EMAIL ---\n",
      "TOPIC: Distance Between Moon and Earth\n",
      "TO: steve@example.com\n",
      "CONTENT:\n",
      "\n",
      "Dear Steve,\n",
      "\n",
      "The distance between the Moon and Earth divided by two is approximately 192,200 kilometers.\n",
      "\n",
      "Best regards.\n",
      "---\n",
      "Message(role=<Role.TOOL: 'tool'>, content='done.', name=None, function_call=None, tool_calls=[], tool_call_id='call_9G53xbu8mUiBWoQNW2CYaEqz')\n",
      "Message(role=<Role.ASSISTANT: 'assistant'>, content='I have sent an email to Steve informing him that the distance between the Moon and Earth divided by two is approximately 192,200 kilometers.', name=None, function_call=None, tool_calls=[], tool_call_id=None)\n"
     ]
    }
   ],
   "source": [
    "@tool\n",
    "def send_email(\n",
    "    topic: str = param(\"The email topic\"),\n",
    "    to: str = param(\"The recipient email address\"),\n",
    "    content: str = param(\"The content of the email\"),\n",
    "):\n",
    "    \"\"\"Send an email to a recipient\"\"\"\n",
    "    print(f\"--- SEND EMAIL ---\")\n",
    "    print(f\"TOPIC: {topic}\")\n",
    "    print(f\"TO: {to}\")\n",
    "    print(f\"CONTENT:\\n\\n{content}\")\n",
    "    print(f\"---\")\n",
    "    return \"done.\"\n",
    "\n",
    "gpt = AugmentedGPT(tools=[send_email, plugins.CalculatorPlugin()], debug=True)\n",
    "\n",
    "completion = gpt.chat_completion([\n",
    "    Message(role=Role.USER, content=\"Send Steve an email and tell him the distance between moon and earth divided by two.\"),\n",
    "])\n",
    "\n",
    "async for response in completion:\n",
    "    print(response)"
   ]
  }
 ],
 "metadata": {
  "kernelspec": {
   "display_name": "gpt-functions-3M8shESb-py3.10",
   "language": "python",
   "name": "python3"
  },
  "language_info": {
   "codemirror_mode": {
    "name": "ipython",
    "version": 3
   },
   "file_extension": ".py",
   "mimetype": "text/x-python",
   "name": "python",
   "nbconvert_exporter": "python",
   "pygments_lexer": "ipython3",
   "version": "3.12.3"
  },
  "orig_nbformat": 4
 },
 "nbformat": 4,
 "nbformat_minor": 2
}

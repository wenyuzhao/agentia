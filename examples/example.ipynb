{
 "cells": [
  {
   "attachments": {},
   "cell_type": "markdown",
   "metadata": {},
   "source": [
    "# AugmentedGPT Playground\n",
    "\n",
    "Please run `poetry install` under the project root directory. This will install all the necessary dependencies for you."
   ]
  },
  {
   "attachments": {},
   "cell_type": "markdown",
   "metadata": {},
   "source": [
    "## Imports and set API key"
   ]
  },
  {
   "cell_type": "code",
   "execution_count": 1,
   "metadata": {},
   "outputs": [],
   "source": [
    "from augmented_gpt import *\n",
    "import getpass, dotenv, os\n",
    "\n",
    "dotenv.load_dotenv()\n",
    "if 'OPENAI_API_KEY' not in os.environ:\n",
    "    os.environ['OPENAI_API_KEY'] = getpass.getpass('Enter your OpenAI API key: ')"
   ]
  },
  {
   "attachments": {},
   "cell_type": "markdown",
   "metadata": {},
   "source": [
    "## Create a GPT instance that can use tools, and remembers the conversation in a long-term memory storage."
   ]
  },
  {
   "cell_type": "code",
   "execution_count": 4,
   "metadata": {},
   "outputs": [
    {
     "name": "stderr",
     "output_type": "stream",
     "text": [
      "[INFO:AugmentedGPT] Register-Function: send_email\n",
      "[INFO:AugmentedGPT] Register-Function: Calculator-evaluate\n"
     ]
    },
    {
     "name": "stderr",
     "output_type": "stream",
     "text": [
      "[DEBUG:AugmentedGPT] ➡️ Calculator-evaluate: expression=(384400 / 2)\n"
     ]
    },
    {
     "name": "stdout",
     "output_type": "stream",
     "text": [
      "Message(role=<Role.ASSISTANT: 'assistant'>, content=None, name=None, function_call=None, tool_calls=[ToolCall(id='call_nG9nhaaCVAeXltVIsR8SkHhV', function=FunctionCall(name='Calculator-evaluate', arguments={'expression': '(384400 / 2)'}), type='function')], tool_call_id=None)\n",
      "Message(role=<Role.TOOL: 'tool'>, content='192200.0', name=None, function_call=None, tool_calls=[], tool_call_id='call_nG9nhaaCVAeXltVIsR8SkHhV')\n"
     ]
    },
    {
     "name": "stderr",
     "output_type": "stream",
     "text": [
      "[DEBUG:AugmentedGPT] ➡️ send_email: topic=Distance Between Moon and Earth, to=Steve, content=Hi Steve,\n",
      "\n",
      "I thought you might be interested to know that the average distance between the Moon and Earth, when divided by two, is approximately 192,200 kilometers.\n",
      "\n",
      "Best regards.\n"
     ]
    },
    {
     "name": "stdout",
     "output_type": "stream",
     "text": [
      "Message(role=<Role.ASSISTANT: 'assistant'>, content=None, name=None, function_call=None, tool_calls=[ToolCall(id='call_Hvah3GsS0oBw0ZFTCuN1Q2Xk', function=FunctionCall(name='send_email', arguments={'topic': 'Distance Between Moon and Earth', 'to': 'Steve', 'content': 'Hi Steve,\\n\\nI thought you might be interested to know that the average distance between the Moon and Earth, when divided by two, is approximately 192,200 kilometers.\\n\\nBest regards.'}), type='function')], tool_call_id=None)\n",
      "--- SEND EMAIL ---\n",
      "TOPIC: Distance Between Moon and Earth\n",
      "TO: Steve\n",
      "CONTENT:\n",
      "\n",
      "Hi Steve,\n",
      "\n",
      "I thought you might be interested to know that the average distance between the Moon and Earth, when divided by two, is approximately 192,200 kilometers.\n",
      "\n",
      "Best regards.\n",
      "---\n",
      "Message(role=<Role.TOOL: 'tool'>, content='done.', name=None, function_call=None, tool_calls=[], tool_call_id='call_Hvah3GsS0oBw0ZFTCuN1Q2Xk')\n",
      "Message(role=<Role.ASSISTANT: 'assistant'>, content='The email has been successfully sent to Steve, informing him that the distance between the Moon and Earth divided by two is approximately 192,200 kilometers.', name=None, function_call=None, tool_calls=[], tool_call_id=None)\n"
     ]
    }
   ],
   "source": [
    "@function\n",
    "def send_email(\n",
    "    topic: str = param(\"The email topic\"),\n",
    "    to: str = param(\"The recipient email address\"),\n",
    "    content: str = param(\"The content of the email\"),\n",
    "):\n",
    "    \"\"\"Send an email to a recipient\"\"\"\n",
    "    print(f\"--- SEND EMAIL ---\")\n",
    "    print(f\"TOPIC: {topic}\")\n",
    "    print(f\"TO: {to}\")\n",
    "    print(f\"CONTENT:\\n\\n{content}\")\n",
    "    print(f\"---\")\n",
    "    return \"done.\"\n",
    "\n",
    "gpt = AugmentedGPT(functions=[send_email], plugins=[plugins.CalculatorPlugin()], debug=True)\n",
    "\n",
    "completion = gpt.chat_completion([\n",
    "    Message(role=Role.USER, content=\"Send Steve an email and tell him the distance between moon and earth divided by two.\"),\n",
    "])\n",
    "\n",
    "async for response in completion:\n",
    "    print(response)"
   ]
  }
 ],
 "metadata": {
  "kernelspec": {
   "display_name": "gpt-functions-3M8shESb-py3.10",
   "language": "python",
   "name": "python3"
  },
  "language_info": {
   "codemirror_mode": {
    "name": "ipython",
    "version": 3
   },
   "file_extension": ".py",
   "mimetype": "text/x-python",
   "name": "python",
   "nbconvert_exporter": "python",
   "pygments_lexer": "ipython3",
   "version": "3.11.6"
  },
  "orig_nbformat": 4
 },
 "nbformat": 4,
 "nbformat_minor": 2
}

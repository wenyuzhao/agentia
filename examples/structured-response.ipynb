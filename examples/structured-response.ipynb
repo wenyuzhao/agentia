{
 "cells": [
  {
   "cell_type": "markdown",
   "id": "3e379935",
   "metadata": {},
   "source": [
    "# Structured Response"
   ]
  },
  {
   "cell_type": "code",
   "execution_count": 1,
   "id": "469e3d6d",
   "metadata": {},
   "outputs": [
    {
     "data": {
      "text/plain": [
       "True"
      ]
     },
     "execution_count": 1,
     "metadata": {},
     "output_type": "execute_result"
    }
   ],
   "source": [
    "from agentia import Agent\n",
    "import dotenv\n",
    "\n",
    "dotenv.load_dotenv()"
   ]
  },
  {
   "cell_type": "code",
   "execution_count": 2,
   "id": "319bd249",
   "metadata": {},
   "outputs": [
    {
     "name": "stdout",
     "output_type": "stream",
     "text": [
      "name='Donald Trump' age=77 occupation='Former President of the United States' hobbies=['Golfing', 'Real estate investing', 'Public speaking'] location='New York City, NY' hair_color=<HairColor.BLONDE: 'blonde'>\n"
     ]
    }
   ],
   "source": [
    "from pydantic import BaseModel, Field\n",
    "from enum import StrEnum\n",
    "import json\n",
    "\n",
    "\n",
    "class HairColor(StrEnum):\n",
    "    BLACK = \"black\"\n",
    "    BROWN = \"brown\"\n",
    "    BLONDE = \"blonde\"\n",
    "    RED = \"red\"\n",
    "    GREY = \"grey\"\n",
    "\n",
    "\n",
    "class PersonDetails(BaseModel):\n",
    "    name: str\n",
    "    age: int\n",
    "    occupation: str\n",
    "    hobbies: list[str]\n",
    "    location: str = Field(..., description=\"Location of the person\")\n",
    "    hair_color: HairColor\n",
    "\n",
    "\n",
    "agent = Agent()\n",
    "\n",
    "result = await agent.run(\"Get Trump's Details\", response_format=PersonDetails)\n",
    "\n",
    "assert result.content\n",
    "\n",
    "detail = PersonDetails(**json.loads(result.content))\n",
    "\n",
    "print(detail)"
   ]
  }
 ],
 "metadata": {
  "kernelspec": {
   "display_name": ".venv",
   "language": "python",
   "name": "python3"
  },
  "language_info": {
   "codemirror_mode": {
    "name": "ipython",
    "version": 3
   },
   "file_extension": ".py",
   "mimetype": "text/x-python",
   "name": "python",
   "nbconvert_exporter": "python",
   "pygments_lexer": "ipython3",
   "version": "3.12.3"
  }
 },
 "nbformat": 4,
 "nbformat_minor": 5
}

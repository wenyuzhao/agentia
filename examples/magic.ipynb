{
 "cells": [
  {
   "cell_type": "markdown",
   "id": "44ece729",
   "metadata": {},
   "source": [
    "# Magic Functions"
   ]
  },
  {
   "cell_type": "code",
   "execution_count": 1,
   "id": "1ecaef98",
   "metadata": {},
   "outputs": [
    {
     "data": {
      "text/plain": [
       "True"
      ]
     },
     "execution_count": 1,
     "metadata": {},
     "output_type": "execute_result"
    }
   ],
   "source": [
    "from agentia import magic\n",
    "import dotenv\n",
    "\n",
    "dotenv.load_dotenv()"
   ]
  },
  {
   "cell_type": "markdown",
   "id": "4df05479",
   "metadata": {},
   "source": [
    "### Basic Usage"
   ]
  },
  {
   "cell_type": "code",
   "execution_count": 2,
   "id": "0dc7e782",
   "metadata": {},
   "outputs": [
    {
     "name": "stdout",
     "output_type": "stream",
     "text": [
      "A new Development section tracks branches, fixes, and PRs for code scanning alerts.\n"
     ]
    }
   ],
   "source": [
    "@magic\n",
    "async def summarise(text: str) -> str:\n",
    "    \"\"\"Summarise the given text to a ultra short sentence.\"\"\"\n",
    "    ...\n",
    "\n",
    "\n",
    "text = \"\"\"\n",
    "We've created a new section in the code scanning alerts page called Development that tracks critical information for alerts such as affected branches, fixes, and associated pull requests. This helps you and your team stay informed about the progress of fixing alerts.\n",
    "\"\"\"\n",
    "\n",
    "print(await summarise(text))"
   ]
  },
  {
   "cell_type": "markdown",
   "id": "68667ae1",
   "metadata": {},
   "source": [
    "### Structured Inputs and Outputs"
   ]
  },
  {
   "cell_type": "code",
   "execution_count": 3,
   "id": "b1d45bd1",
   "metadata": {},
   "outputs": [
    {
     "name": "stdout",
     "output_type": "stream",
     "text": [
      "Alice and the Blue Thread\n",
      "---\n",
      "At thirty, Alice balanced two worlds as naturally as she switched branches in a git repository. By day she was a software engineer who could coax stubborn systems into singing. By dawn and dusk she became a reader of old maps and a hiker who knew how to follow trails that most people ignored. Her hair was an impossible blue that caught the wind and held a faint, electric glow — a color that had a way of making the forest look like it remembered her.\n",
      "\n",
      "The rift opened near the summit of a ridge she loved to hike. Trees along the path bent away from it, their leaves turning into pages that whispered fragments of forgotten code. Animals watched with eyes like semicolons: small, precise, and waiting for the next line. Locals spoke of a seam in the world where logic frayed and magic leaked out, and when the mountain started to cough out sparks and syntax, they sent for anyone who still believed in both spells and scripts.\n",
      "\n",
      "Alice arrived with a pack of practical things — a laptop with stickers in place of talismans, a notebook full of marginalia, a thermos, and a rope. She set her gear down and listened. The rift did not roar. It emitted a low hum like a server under a heavy load: packets of possibility colliding and dropping. She read aloud lines from a folktale and then typed them into her editor as if they were functions. She refactored a charm into clear, elegant logic. Where the words faltered, she debugged the language with a version of empathy learned from long hours of pair-programming.\n",
      "\n",
      "As she worked, her blue hair began to shimmer, strands aligning like threads in a loom. The code she wrote did not compile in any conventional sense — it linked syllables to roots, loops to ley lines, and caused stars overhead to flicker in agreement. The rift resisted with a tangle of paradoxes and half-remembered rules, but Alice rewrote the assumptions, introduced graceful failures, and built a gentle rollback.\n",
      "\n",
      "When the seam stitched itself closed, the mountain sighed and released a single, perfect page that settled into her hand. On it were diagrams and functions she had not written and yet recognized: a map for balancing systems, whether of software or of worlds. She smiled, folded the page into her notebook, and headed down the trail. The forest seemed brighter. Her blue hair caught the light, threaded now with something like starlight — a small, living cursor that blinked once and then rested, satisfied.\n"
     ]
    }
   ],
   "source": [
    "from pydantic import BaseModel\n",
    "\n",
    "\n",
    "class Character(BaseModel):\n",
    "    name: str\n",
    "    age: int\n",
    "    occupation: str\n",
    "    hobbies: list[str]\n",
    "    hair_color: str\n",
    "\n",
    "\n",
    "class Story(BaseModel):\n",
    "    title: str\n",
    "    snippet: str\n",
    "\n",
    "\n",
    "@magic\n",
    "async def write_story(character: Character, story_type: str) -> Story:\n",
    "    \"\"\"Write a short story about the given character.\"\"\"\n",
    "    ...\n",
    "\n",
    "\n",
    "character = Character(\n",
    "    name=\"Alice\",\n",
    "    age=30,\n",
    "    occupation=\"Software Engineer\",\n",
    "    hobbies=[\"coding\", \"reading\", \"hiking\"],\n",
    "    hair_color=\"blue\",\n",
    ")\n",
    "\n",
    "story = await write_story(character, \"fantasy\")\n",
    "\n",
    "assert isinstance(story, Story)\n",
    "\n",
    "print(story.title)\n",
    "print(\"---\")\n",
    "print(story.snippet)"
   ]
  },
  {
   "cell_type": "markdown",
   "id": "a033114d",
   "metadata": {},
   "source": [
    "### Use tools"
   ]
  },
  {
   "cell_type": "code",
   "execution_count": 4,
   "id": "3835187f",
   "metadata": {},
   "outputs": [
    {
     "name": "stdout",
     "output_type": "stream",
     "text": [
      "Result: 692\n"
     ]
    }
   ],
   "source": [
    "from agentia.plugins import CalculatorPlugin\n",
    "\n",
    "\n",
    "@magic(model=\"openai/gpt-4.1-nano\", tools=[CalculatorPlugin()])\n",
    "async def calculate(expression: str) -> int:\n",
    "    \"\"\"Calculate the given expression.\"\"\"\n",
    "    ...\n",
    "\n",
    "\n",
    "result = await calculate(\"2 + 2 * 345\")\n",
    "\n",
    "assert isinstance(result, int)\n",
    "\n",
    "print(\"Result:\", result)"
   ]
  },
  {
   "cell_type": "markdown",
   "id": "1fe84277",
   "metadata": {},
   "source": [
    "### Image Inputs"
   ]
  },
  {
   "cell_type": "code",
   "execution_count": 5,
   "id": "611eecd1",
   "metadata": {},
   "outputs": [
    {
     "name": "stdout",
     "output_type": "stream",
     "text": [
      "A fluffy brown-and-gray tabby cat lying on a wooden surface with its head tilted to one side, looking directly at the camera with large, round yellow-green eyes. One forepaw is stretched forward, whiskers and soft fur clearly visible; the background is softly blurred, suggesting an indoor setting.\n"
     ]
    }
   ],
   "source": [
    "from agentia import ImageUrl\n",
    "from PIL.Image import Image\n",
    "\n",
    "\n",
    "@magic\n",
    "async def describe_image(image: ImageUrl | Image) -> str:\n",
    "    \"\"\"Describe the given image.\"\"\"\n",
    "    ...\n",
    "\n",
    "\n",
    "print(\n",
    "    await describe_image(\n",
    "        ImageUrl(\n",
    "            \"https://t3.ftcdn.net/jpg/02/36/99/22/360_F_236992283_sNOxCVQeFLd5pdqaKGh8DRGMZy7P4XKm.jpg\"\n",
    "        )\n",
    "    )\n",
    ")"
   ]
  },
  {
   "cell_type": "markdown",
   "id": "901514c8",
   "metadata": {},
   "source": [
    "### Sync Functions\n",
    "\n",
    "Annotating sync functions are also possible. You may need to use `nest_asyncio` since the magic function internally invokes async functions."
   ]
  },
  {
   "cell_type": "code",
   "execution_count": 6,
   "id": "372c149d",
   "metadata": {},
   "outputs": [],
   "source": [
    "@magic\n",
    "def summarise(text: str) -> str:\n",
    "    \"\"\"Summarise the given text.\"\"\"\n",
    "    ..."
   ]
  }
 ],
 "metadata": {
  "kernelspec": {
   "display_name": "agentia",
   "language": "python",
   "name": "python3"
  },
  "language_info": {
   "codemirror_mode": {
    "name": "ipython",
    "version": 3
   },
   "file_extension": ".py",
   "mimetype": "text/x-python",
   "name": "python",
   "nbconvert_exporter": "python",
   "pygments_lexer": "ipython3",
   "version": "3.12.3"
  }
 },
 "nbformat": 4,
 "nbformat_minor": 5
}

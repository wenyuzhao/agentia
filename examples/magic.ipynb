{
 "cells": [
  {
   "cell_type": "markdown",
   "id": "44ece729",
   "metadata": {},
   "source": [
    "# Magic Functions"
   ]
  },
  {
   "cell_type": "code",
   "execution_count": 1,
   "id": "1ecaef98",
   "metadata": {},
   "outputs": [
    {
     "data": {
      "text/plain": [
       "True"
      ]
     },
     "execution_count": 1,
     "metadata": {},
     "output_type": "execute_result"
    }
   ],
   "source": [
    "from agentia import magic\n",
    "import dotenv\n",
    "\n",
    "dotenv.load_dotenv()"
   ]
  },
  {
   "cell_type": "markdown",
   "id": "4df05479",
   "metadata": {},
   "source": [
    "### Basic Usage"
   ]
  },
  {
   "cell_type": "code",
   "execution_count": 2,
   "id": "0dc7e782",
   "metadata": {},
   "outputs": [
    {
     "name": "stdout",
     "output_type": "stream",
     "text": [
      "A new Development section on the code scanning alerts page tracks critical alert information.\n"
     ]
    }
   ],
   "source": [
    "@magic\n",
    "async def summarise(text: str) -> str:\n",
    "    \"\"\"Summarise the given text to a ultra short sentence.\"\"\"\n",
    "    ...\n",
    "\n",
    "\n",
    "text = \"\"\"\n",
    "We’ve created a new section in the code scanning alerts page called Development that tracks critical information for alerts such as affected branches, fixes, and associated pull requests. This helps you and your team stay informed about the progress of fixing alerts.\n",
    "\"\"\"\n",
    "\n",
    "print(await summarise(text))"
   ]
  },
  {
   "cell_type": "markdown",
   "id": "68667ae1",
   "metadata": {},
   "source": [
    "### Structured Inputs and Outputs"
   ]
  },
  {
   "cell_type": "code",
   "execution_count": 3,
   "id": "b1d45bd1",
   "metadata": {},
   "outputs": [
    {
     "name": "stdout",
     "output_type": "stream",
     "text": [
      "The Code of Enchantment\n",
      "---\n",
      "In a world where technology and magic intertwined, Alice, a 30-year-old software engineer with vibrant blue hair, ruled the realms of code and algorithms. Her days were spent crafting software, debugging issues, and delving into fantasy novels that fueled her imagination. One day, while wandering through a mystical forest during a hiking trip, Alice stumbled upon an ancient tome etched with intricate runes. As she deciphered the text, she realized that each line was not just a spell but a piece of code that could manipulate reality itself! With her knowledge of coding, Alice transformed the spells into programs, creating enchanted applications that could summon creatures or alter landscapes.\n",
      "\n",
      "However, she quickly learned that every line of code came with its own consequences. As beautiful as her digital creations were, the delicate balance of the magical forest began to shift. With her new powers, she faced the challenge of harnessing magic responsibly. Armed with her laptop and guided by the wisdom of the tome, Alice ventured through the forest, coding magic into the very fabric of reality while forging friendships with mystical beings. In the end, she became not just a programmer but a guardian of the enchanted realm, bridging the worlds of technology and magic, ensuring harmony for all.\n"
     ]
    }
   ],
   "source": [
    "from pydantic import BaseModel\n",
    "\n",
    "\n",
    "class Character(BaseModel):\n",
    "    name: str\n",
    "    age: int\n",
    "    occupation: str\n",
    "    hobbies: list[str]\n",
    "    hair_color: str\n",
    "\n",
    "\n",
    "class Story(BaseModel):\n",
    "    title: str\n",
    "    snippet: str\n",
    "\n",
    "\n",
    "@magic\n",
    "async def write_story(character: Character, story_type: str) -> Story:\n",
    "    \"\"\"Write a short story about the given character.\"\"\"\n",
    "    ...\n",
    "\n",
    "\n",
    "character = Character(\n",
    "    name=\"Alice\",\n",
    "    age=30,\n",
    "    occupation=\"Software Engineer\",\n",
    "    hobbies=[\"coding\", \"reading\", \"hiking\"],\n",
    "    hair_color=\"blue\",\n",
    ")\n",
    "\n",
    "story = await write_story(character, \"fantasy\")\n",
    "\n",
    "assert isinstance(story, Story)\n",
    "\n",
    "print(story.title)\n",
    "print(\"---\")\n",
    "print(story.snippet)"
   ]
  },
  {
   "cell_type": "markdown",
   "id": "a033114d",
   "metadata": {},
   "source": [
    "### Control the agent behind the magic"
   ]
  },
  {
   "cell_type": "code",
   "execution_count": null,
   "id": "3835187f",
   "metadata": {},
   "outputs": [
    {
     "name": "stdout",
     "output_type": "stream",
     "text": [
      "Result: 692\n"
     ]
    }
   ],
   "source": [
    "from agentia.plugins import CalculatorPlugin\n",
    "\n",
    "\n",
    "@magic(model=\"openai/gpt-4.1-nano\", tools=[CalculatorPlugin()])\n",
    "async def calculate(expression: str) -> int:\n",
    "    \"\"\"Calculate the given expression.\"\"\"\n",
    "    ...\n",
    "\n",
    "\n",
    "result = await calculate(\"2 + 2 * 345\")\n",
    "\n",
    "assert isinstance(result, int)\n",
    "\n",
    "print(\"Result:\", result)"
   ]
  },
  {
   "cell_type": "markdown",
   "id": "1fe84277",
   "metadata": {},
   "source": [
    "### Image Inputs"
   ]
  },
  {
   "cell_type": "code",
   "execution_count": 5,
   "id": "611eecd1",
   "metadata": {},
   "outputs": [
    {
     "name": "stdout",
     "output_type": "stream",
     "text": [
      "The image features a playful tabby cat resting on a wooden surface. The cat is lying down with its body positioned slightly sideways and its head tilted, giving it a curious expression. Its large, round eyes are a bright yellow, which contrasts with its striped gray and brown fur. The background is blurred, suggesting a cozy indoor environment, with soft colors that enhance the cat's playful demeanor.\n"
     ]
    }
   ],
   "source": [
    "from agentia import ImageUrl\n",
    "from PIL.Image import Image\n",
    "\n",
    "\n",
    "@magic\n",
    "async def describe_image(image: ImageUrl | Image) -> str:\n",
    "    \"\"\"Describe the given image.\"\"\"\n",
    "    ...\n",
    "\n",
    "\n",
    "print(\n",
    "    await describe_image(\n",
    "        ImageUrl(\n",
    "            \"https://t3.ftcdn.net/jpg/02/36/99/22/360_F_236992283_sNOxCVQeFLd5pdqaKGh8DRGMZy7P4XKm.jpg\"\n",
    "        )\n",
    "    )\n",
    ")"
   ]
  },
  {
   "cell_type": "markdown",
   "id": "901514c8",
   "metadata": {},
   "source": [
    "### Sync Functions\n",
    "\n",
    "Annotating sync functions are also possible. You may need to use `nest_asyncio` since the magic function internally invokes async functions."
   ]
  },
  {
   "cell_type": "code",
   "execution_count": null,
   "id": "372c149d",
   "metadata": {},
   "outputs": [],
   "source": [
    "@magic\n",
    "def summarise(text: str) -> str:\n",
    "    \"\"\"Summarise the given text.\"\"\"\n",
    "    ..."
   ]
  }
 ],
 "metadata": {
  "kernelspec": {
   "display_name": "agentia",
   "language": "python",
   "name": "python3"
  },
  "language_info": {
   "codemirror_mode": {
    "name": "ipython",
    "version": 3
   },
   "file_extension": ".py",
   "mimetype": "text/x-python",
   "name": "python",
   "nbconvert_exporter": "python",
   "pygments_lexer": "ipython3",
   "version": "3.13.2"
  }
 },
 "nbformat": 4,
 "nbformat_minor": 5
}
